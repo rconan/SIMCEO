{
 "cells": [
  {
   "cell_type": "markdown",
   "metadata": {},
   "source": [
    "# Notebook to setup the Active Optics algorithm\n",
    "#### Load required libraries"
   ]
  },
  {
   "cell_type": "code",
   "execution_count": 3,
   "metadata": {},
   "outputs": [],
   "source": [
    "import numpy as np\n",
    "import logging\n",
    "import pickle\n",
    "\n",
    "from scipy import sparse\n",
    "import scipy.linalg as la\n",
    "from scipy.linalg import block_diag\n",
    "import scipy.io as spio\n",
    "\n",
    "import os\n",
    "from os import path\n",
    "\n",
    "from pathlib import Path\n",
    "\n",
    "import matplotlib.pyplot as plt\n",
    "\n",
    "# from ruamel import yaml\n",
    "# from ruamel.yaml import YAML\n",
    "# y = YAML()\n",
    "# y.default_flow_style = None"
   ]
  },
  {
   "cell_type": "code",
   "execution_count": 17,
   "metadata": {},
   "outputs": [],
   "source": [
    "def get_aco_recW2(Dwfs,wfsMask,DpwBM,rho_p,rho_s,**kwargs):\n",
    "\n",
    "    try:\n",
    "        plotPistonRegMat = kwargs['plotPistonRegMat']\n",
    "    except:\n",
    "        plotPistonRegMat = False\n",
    "\n",
    "    if not ((Dwfs.shape[1]+2) % 7):\n",
    "        mount_included = False\n",
    "        n_bm = ((Dwfs.shape[1]+2)//7) - 12\n",
    "    elif not ((Dwfs.shape[1]+2 -2) % 7):\n",
    "        n_bm = ((Dwfs.shape[1])//7) - 12\n",
    "        mount_included = True\n",
    "    else:\n",
    "        print('Unable to get the correct number of the calibrated bending modes. Check Dwfs!')\n",
    "\n",
    "    # - - - Global clocking filtering: we assume that the last 12 modes refer to segment clocking\n",
    "    n_r = 12\n",
    "    _U,sigma,VT = np.linalg.svd(Dwfs,full_matrices=False)\n",
    "    q = sigma[-n_r:]\n",
    "    W2_clk = VT[-n_r:,:].T.dot(np.diag(q)).dot(VT[-n_r:,:])\n",
    "\n",
    "     # - - - Segment piston penalization\n",
    "    if mount_included:\n",
    "        DpwBM = np.hstack([DpwBM, kwargs['Dp_az'], kwargs['Dp_el']])\n",
    "        \n",
    "    W2_piston = DpwBM.T.dot(DpwBM)\n",
    "\n",
    "    if (plotPistonRegMat):\n",
    "        import matplotlib.pyplot as plt\n",
    "        fig = plt.figure(figsize=(8,4))\n",
    "        plt.imshow(W2_piston[:6,:6], aspect='auto')\n",
    "        plt.title('Segment Piston Penalization Matrix')\n",
    "        plt.xlabel('Input mode'), plt.ylabel('Reconstructed mode')\n",
    "        plt.show()\n",
    "\n",
    "    if (False):\n",
    "        import matplotlib.pyplot as plt\n",
    "        fig = plt.figure(figsize=(8,4))\n",
    "        plt.imshow((V_pr @ (Lambda_pr - R_g@Lambda_g@R_g.T) @ V_pr.T), aspect='auto')\n",
    "        plt.show()\n",
    "\n",
    "    W2 = W2_clk + rho_p*W2_piston\n",
    "\n",
    "    # - - - Mean slope removal matrices (but retains the overall contribution)\n",
    "    O = np.kron(np.eye(6),np.ones((48*48,1)))\n",
    "    V_pr = np.zeros((Dwfs.shape[0],6))\n",
    "    for iv in range(6):\n",
    "        V_pr[:,iv] = np.hstack([*[O[MaskSeg.ravel(),iv] for MaskSeg in wfsMask]])\n",
    "    Lambda_pr = np.diag(1/np.sum(V_pr,axis=0))\n",
    "\n",
    "    R_g = np.kron(np.eye(2),np.array([[1,1,1]]).T)\n",
    "    Lambda_g = np.diag(1/np.sum(V_pr@R_g,axis=0))        \n",
    "    \n",
    "    # Mean slope regularization\n",
    "    if rho_s > 0.0:\n",
    "        S = np.matmul(V_pr @ (Lambda_pr - R_g@Lambda_g@R_g.T) @ V_pr.T, Dwfs)\n",
    "        # Update W2 mean slope regularization matrix\n",
    "        W2 += rho_s*S.T.dot(S)\n",
    "        \n",
    "    Rs = np.eye(Dwfs.shape[0]) - (V_pr @ (Lambda_pr - R_g@Lambda_g@R_g.T) @ V_pr.T)\n",
    "\n",
    "    return W2, Rs"
   ]
  },
  {
   "cell_type": "code",
   "execution_count": 5,
   "metadata": {},
   "outputs": [],
   "source": [
    "def get_aco_recW3(rho_rbm1,rho_rbm2,rho_Fz,**kwargs):\n",
    "    \n",
    "    W_M1TxyzRxyz = [rho_rbm1*i_cm for i_cm in [1]*6]\n",
    "    W_M2TxyzRxyz = [rho_rbm2*i_cm for i_cm in [1]*6]\n",
    "    \n",
    "    W_rbm_oa = block_diag(np.diag(W_M1TxyzRxyz), np.diag(W_M2TxyzRxyz))\n",
    "    W_rbm_cs = block_diag(np.diag(W_M1TxyzRxyz[:-1]), np.diag(W_M2TxyzRxyz[:-1]))\n",
    "    # Rescale RBM weighting matrix\n",
    "    rbm_factor = 1/np.linalg.norm(W_rbm_oa)\n",
    "\n",
    "    # OA segment SA_F weights\n",
    "    W_m1oaF = np.diag([1]*165)\n",
    "    W_m1oaF =  rho_Fz*(1/np.linalg.norm(W_m1oaF))*W_m1oaF\n",
    "    # CS (center segment) SA_F weights\n",
    "    W_m1csF = np.diag([1]*154)\n",
    "    W_m1csF =  rho_Fz*(1/np.linalg.norm(W_m1csF))*W_m1csF\n",
    "\n",
    "    \n",
    "    # Group weighting matrices\n",
    "    W3_M1RBM = rbm_factor*block_diag(np.kron(np.eye(6),np.diag(W_M1TxyzRxyz)),\n",
    "        np.diag(W_M1TxyzRxyz[:-1]))\n",
    "    W3_M2RBM = rbm_factor*block_diag(np.kron(np.eye(6),np.diag(W_M2TxyzRxyz)),\n",
    "        np.diag(W_M2TxyzRxyz[:-1]))\n",
    "    W3_M1BM = block_diag(np.kron(np.eye(6),W_m1oaF),W_m1csF)\n",
    "    # Merge weighting matrices\n",
    "    W3 = block_diag(W3_M1RBM,W3_M2RBM,W3_M1BM)\n",
    "\n",
    "    if 'rho_m' in kwargs.keys():\n",
    "        W3 = block_diag(W3,kwargs['rho_m']*np.eye(2))\n",
    "    \n",
    "    W3 = (1/np.linalg.norm(W3))*W3\n",
    "    \n",
    "    # Print reconstructor regularization weights\n",
    "    if(1):\n",
    "        np.set_printoptions(formatter={'float': '{: 0.6f}'.format})\n",
    "        \n",
    "        aux = np.diag(W3)\n",
    "        if include_mount:\n",
    "            print('Mount weights:\\n',aux[-2:])\n",
    "    \n",
    "        _wM1rbm,_wM2rbm,_wSA_F = np.split(aux,[41,82],axis=0)\n",
    "        print('M1 TxyzRxyz weights:\\n',_wM1rbm[:5],'...(%s entries)'%_wM1rbm.shape)\n",
    "        print('M2 TxyzRxyz weights:\\n',_wM2rbm[:5],'...(%s entries)'%_wM2rbm.shape)\n",
    "        print('Fz weights:\\n',_wSA_F[:5],'...')\n",
    "        np.set_printoptions(formatter=None)\n",
    "\n",
    "    return W3"
   ]
  },
  {
   "cell_type": "code",
   "execution_count": 6,
   "metadata": {},
   "outputs": [],
   "source": [
    "# Number of M1 bending modes\n",
    "n_bm = 27\n",
    "\n",
    "# Recalibration flag\n",
    "recalibrate = False\n",
    "\n",
    "# Calibration filename\n",
    "fluxThreshold = 0.8\n",
    "GSpos = 8 #arcmin\n"
   ]
  },
  {
   "cell_type": "code",
   "execution_count": 7,
   "metadata": {},
   "outputs": [
    {
     "name": "stdout",
     "output_type": "stream",
     "text": [
      "/home/ubuntu/CEO/python/ceo/zemax\n"
     ]
    }
   ],
   "source": [
    "import ceo\n",
    "\n",
    "# Pupil size\n",
    "pupil_size = 25.5\n",
    "\n",
    "# GMT with n_bm bending mode per M1 segment\n",
    "n_bm = 27\n",
    "# gmt_prms = {'M1_mirror_modes':u\"bending modes\", 'M1_N_MODE':n_bm}\n",
    "gmt_prms = {'M1_mirror_modes':u\"FEM_LoFiBM\", 'M1_N_MODE':n_bm}\n",
    "\n",
    "\n",
    "# WFS\n",
    "wfs_nLenslet = 48\n",
    "wfs_prms = {'N_SIDE_LENSLET':wfs_nLenslet, \"N_PX_LENSLET\":16,\n",
    "            'd':pupil_size/wfs_nLenslet, 'DFT_osf':2, 'N_PX_IMAGE':24,\n",
    "            'BIN_IMAGE':3, 'N_GS':3, 'readOutNoiseRms':0.5, 'noiseFactor':np.sqrt(2),\n",
    "            'photoElectronGain':0.63,'exposureTime': 30,'intensityThreshold':0.0}\n",
    "# Pupil sampled with `Npx` pixels\n",
    "nPx = wfs_prms['N_SIDE_LENSLET']*wfs_prms['N_PX_LENSLET']+1\n",
    "\n",
    "# Source: Guide Stars\n",
    "zen = np.ones(3)*ceo.constants.ARCMIN2RAD*GSpos\n",
    "azi = np.arange(3)*2*np.pi/3\n",
    "wfs_guide_stars = {'photometric_band':\"R+I\",\n",
    "                   'zenith':zen.tolist(), 'azimuth':azi.tolist(),\n",
    "                   'magnitude':[16]*3,\n",
    "                   'fwhm':3.16, 'rays_box_size':pupil_size,\n",
    "                   'rays_box_sampling': nPx,'rays_origin':[0,0,25]}\n",
    "\n",
    "# Instantiate GMT object\n",
    "gmt = ceo.GMT_MX(**gmt_prms)\n",
    "gmt.reset()\n",
    "# Source\n",
    "gs = ceo.Source(**wfs_guide_stars)\n",
    "gs.reset()"
   ]
  },
  {
   "cell_type": "markdown",
   "metadata": {},
   "source": [
    "#### Load Active Optics Calibration Matrix"
   ]
  },
  {
   "cell_type": "code",
   "execution_count": 8,
   "metadata": {},
   "outputs": [
    {
     "name": "stdout",
     "output_type": "stream",
     "text": [
      "Trying to load calib_GSH8arcmin_0p8fluxTH_27BM.pickle\n",
      "___ M1 ___ (Txyz)\n",
      "Segment #:1 2 3 4 5 6 7 \n",
      "------------\n",
      "___ M2 ___ (Txyz)\n",
      "Segment #:1 2 3 4 5 6 7 \n",
      "------------\n",
      "___ M1 ___ (Rxyz)\n",
      "Segment #:1 2 3 4 5 6 7 \n",
      "------------\n",
      "___ M2 ___ (Rxyz)\n",
      "Segment #:1 2 3 4 5 6 7 \n",
      "------------\n",
      "___ M1 ___ (bending modes)\n",
      "Segment #0: 1 2 3 4 5 6 7 8 9 10 11 12 13 14 15 16 17 18 19 20 21 22 23 24 25 26 27 \n",
      "Segment #1: 1 2 3 4 5 6 7 8 9 10 11 12 13 14 15 16 17 18 19 20 21 22 23 24 25 26 27 \n",
      "Segment #2: 1 2 3 4 5 6 7 8 9 10 11 12 13 14 15 16 17 18 19 20 21 22 23 24 25 26 27 \n",
      "Segment #3: 1 2 3 4 5 6 7 8 9 10 11 12 13 14 15 16 17 18 19 20 21 22 23 24 25 26 27 \n",
      "Segment #4: 1 2 3 4 5 6 7 8 9 10 11 12 13 14 15 16 17 18 19 20 21 22 23 24 25 26 27 \n",
      "Segment #5: 1 2 3 4 5 6 7 8 9 10 11 12 13 14 15 16 17 18 19 20 21 22 23 24 25 26 27 \n",
      "Segment #6: 1 2 3 4 5 6 7 8 9 10 11 12 13 14 15 16 17 18 19 20 21 22 23 24 25 26 27 \n",
      "------------\n",
      "Max. flux: 1.0\n",
      "# of WFS valid lenslet based on flux threshold (0.80): 3216\n",
      "# of WFS valid & decoupled slopes: sum[980, 974, 974, 980, 980, 980, 564]=6432\n",
      "___ MOUNT ___ (pointing)\n",
      "------------\n",
      "----------\n",
      "Calibrating piston penalization matrices...\n",
      "\n",
      "M1:= S1:Tx(0)y(1)z(2)Rx(3)y(4)z(5) S2:Tx(6)y(7)z(8)Rx(9)y(10)z(11) S3:Tx(12)y(13)z(14)Rx(15)y(16)z(17) S4:Tx(18)y(19)z(20)Rx(21)y(22)z(23) S5:Tx(24)y(25)z(26)Rx(27)y(28)z(29) S6:Tx(30)y(31)z(32)Rx(33)y(34)z(35) S7:Tx(36)y(37)z(38)Rx(39)y(40)\n",
      "M2:= S1:Tx(41)y(42)z(43)Rx(44)y(45)z(46) S2:Tx(47)y(48)z(49)Rx(50)y(51)z(52) S3:Tx(53)y(54)z(55)Rx(56)y(57)z(58) S4:Tx(59)y(60)z(61)Rx(62)y(63)z(64) S5:Tx(65)y(66)z(67)Rx(68)y(69)z(70) S6:Tx(71)y(72)z(73)Rx(74)y(75)z(76) S7:Tx(77)y(78)z(79)Rx(80)y(81)\n",
      "Calibration data saved as calib_GSH8arcmin_0p8fluxTH_27BM.pickle\n",
      "-> 21x82 Piston interaction matrix was loaded successfully.\n"
     ]
    },
    {
     "data": {
      "image/png": "[encoded data removed]",
      "text/plain": [
       "<Figure size 1152x288 with 1 Axes>"
      ]
     },
     "metadata": {
      "needs_background": "light"
     },
     "output_type": "display_data"
    }
   ],
   "source": [
    "flux_str = str(fluxThreshold).replace(\".\", \"p\")\n",
    "filename = 'calib_GSH%sarcmin_%sfluxTH_%dBM.pickle'% (GSpos,flux_str,n_bm)\n",
    "print(\"Trying to load %s\"%filename)\n",
    "\n",
    "# Load calibration data\n",
    "if (os.path.isfile(filename)) and not recalibrate:\n",
    "    with open(filename,'rb') as f:\n",
    "        calib_dt = pickle.load(f)\n",
    "        print('Calibration data loaded from %s'%(filename))\n",
    "        print(calib_dt.keys())\n",
    "else:\n",
    "    \n",
    "    # WFS Calibration reference slopes    \n",
    "    gwfs = ceo.GeometricShackHartmann(**wfs_prms)\n",
    "    gs>>(gmt,gwfs)\n",
    "    +gs\n",
    "    gwfs.calibrate(gs,0.0)\n",
    "    # Calibration settings\n",
    "    pinv_calib_settings = {'n_threshold':[2]*6+[0], 'insert_zeros':[None]*6+[[5,10]]}\n",
    "    # M1/M2 RBM and M1 BM Interaction matrix calibration\n",
    "    CDwBM = gmt.AGWS_calibrate(gwfs, gs, decoupled=True, stroke=[1e-6]*5,\n",
    "                               includeBM=True, filterMirrorRotation=False, \n",
    "                               fluxThreshold=fluxThreshold,\n",
    "                               calibrationVaultKwargs=pinv_calib_settings)\n",
    "    \n",
    "    \n",
    "    # Mount intercation matrix calibration\n",
    "    gwfs.calibrate(gs,fluxThreshold)\n",
    "    Dm = gmt.calibrate(gwfs,gs,'MOUNT','pointing',stroke=1e-6)\n",
    "    \n",
    "    \n",
    "    # M1/M2 segment piston interaction matrix calibration\n",
    "    print('----------\\nCalibrating piston penalization matrices...\\n')\n",
    "    gs>>(gmt,)\n",
    "    ~gmt\n",
    "    +gs\n",
    "    p0 = gs.piston(where='segments')\n",
    "    Dp = np.zeros((21,82))\n",
    "\n",
    "    counter, stroke, label_ax = 0, 1e-6, ['x','y','z']\n",
    "    # Change order to match end2end simulations' pattern\n",
    "    for mirror in ('M1','M2'):\n",
    "        print(mirror,end=':=')\n",
    "    #     print(mirror,end='')\n",
    "        for segment in range(7):\n",
    "            print(' S%s:'%str(segment+1),end='')\n",
    "            for RT in ('Txyz','Rxyz'):\n",
    "                print(RT[0],end='')\n",
    "                for axis in range(3):\n",
    "                    if segment==6 and RT=='Rxyz' and axis==2:\n",
    "                        if(Dp.shape[1] == 84):\n",
    "                            print(end='_')\n",
    "                            counter += 1 \n",
    "                        continue\n",
    "                    print(label_ax[axis],end='')\n",
    "                    ~gmt\n",
    "                    state = gmt.state\n",
    "                    state[mirror][RT][segment,axis] = stroke\n",
    "                    gmt^=state\n",
    "                    +gs\n",
    "                    p = gs.piston(where='segments')   \n",
    "                    Dp[:,counter] = np.reshape((p-p0)/stroke,21)\n",
    "                    print('(%s)'%str(counter),end='')\n",
    "                    counter += 1                \n",
    "        print('')\n",
    "        \n",
    "    # Mount modes induced piston interaction matrix calibration\n",
    "    #gs>>(gmt,)    \n",
    "    ~gmt\n",
    "    +gs\n",
    "    #p0 = gs.piston(where='segments')\n",
    "    stroke = 1e-6\n",
    "    # AZ\n",
    "    mount_az, mount_el = stroke, 0.0\n",
    "    gmt.pointing_error_zenith = np.hypot(mount_az,mount_el)\n",
    "    gmt.pointing_error_azimuth = np.arctan2(mount_el,mount_az)\n",
    "    +gs\n",
    "    p1 = gs.piston(where='segments')\n",
    "    Dp_az = np.reshape((p1-p0)/stroke,(21,1))\n",
    "    # EL\n",
    "    mount_az, mount_el = 0.0, stroke\n",
    "    gmt.pointing_error_zenith = np.hypot(mount_az,mount_el)\n",
    "    gmt.pointing_error_azimuth = np.arctan2(mount_el,mount_az)\n",
    "    +gs\n",
    "    p1 = gs.piston(where='segments')\n",
    "    Dp_el = np.reshape((p1-p0)/stroke,(21,1))\n",
    "    \n",
    "    \n",
    "    # Global clocking\n",
    "    stroke = 1e-5  #rad\n",
    "    # A matrix containing the 12 column vectors related to outer-segment clocking modes\n",
    "    global_clk = np.zeros((12*7,12))\n",
    "    for jj in  range(6):\n",
    "        # M1 OA clocking\n",
    "        gmt.reset()\n",
    "        gmt.M1.transform([0]*3,[0,0,stroke], segId=[jj+1])\n",
    "        global_clk[:,jj] = np.concatenate((gmt.state['M1']['Txyz'],\n",
    "                                       gmt.state['M1']['Rxyz'],\n",
    "                                       gmt.state['M2']['Txyz'],\n",
    "                                       gmt.state['M2']['Rxyz']),axis=1).ravel() / stroke\n",
    "        # Normalize the linear combination\n",
    "        global_clk[:,jj] = global_clk[:,jj]/la.norm(global_clk[:,jj])\n",
    "        # M2 OA clocking\n",
    "        gmt.reset()\n",
    "        gmt.M2.transform([0]*3,[0,0,stroke], segId=[jj+1])\n",
    "        global_clk[:,jj+6] = np.concatenate((gmt.state['M1']['Txyz'],\n",
    "                                       gmt.state['M1']['Rxyz'],\n",
    "                                       gmt.state['M2']['Txyz'],\n",
    "                                       gmt.state['M2']['Rxyz']),axis=1).ravel() / stroke\n",
    "        # Normalize the linear combination\n",
    "        global_clk[:,jj+6] = global_clk[:,jj+6]/la.norm(global_clk[:,jj+6])\n",
    "    \n",
    "    if(1):\n",
    "        fig,ax = plt.subplots()\n",
    "        fig.set_size_inches(16,4)\n",
    "        plt.pcolor(global_clk.T)\n",
    "        ax.grid()\n",
    "        ax.set_xticks(np.arange(0,84,6));\n",
    "        labelsDT = [ax.text(x+2.5,-1.0,f'S{(k % 7)+1}:TxyzRxyz',\n",
    "                            verticalalignment='bottom',fontweight='bold') \n",
    "                    for k,x in enumerate(range(0,84,12),0)]    \n",
    "        ax.set_xticklabels(labels = [])\n",
    "        # global_clk[:,6]   \n",
    "    \n",
    "    \n",
    "       \n",
    "    # Calibration data\n",
    "    calib_dt = {'wfs_prms':wfs_prms,\n",
    "                'wfs_guide_stars':wfs_guide_stars,\n",
    "                'D':CDwBM.D, 'Dm': Dm, 'wfsMask': CDwBM.valid,\n",
    "                'gb_clk':global_clk.T, 'Dp': Dp, 'Dp_az': Dp_az, 'Dp_el': Dp_el}\n",
    "    # Save calibration data\n",
    "    with open(filename,'wb') as f:\n",
    "        pickle.dump(calib_dt,f)\n",
    "    print('Calibration data saved as %s'%(filename))\n",
    "        \n",
    "# Valid lenslets mask\n",
    "wfsMask = calib_dt['wfsMask']\n",
    "# SH-WFS interaction matrix: D:=M1/M2, Dm:=mount\n",
    "D, Dm = calib_dt['D'], calib_dt['Dm']\n",
    "print(\"-> %dx%d Piston interaction matrix was loaded successfully.\"%(Dp.shape[0],Dp.shape[1]))\n",
    "# Other influence matrices: Piston and clocking matrices\n",
    "Dp, Dp_az, Dp_el = calib_dt['Dp'], calib_dt['Dp_az'], calib_dt['Dp_el']\n",
    "gb_clk = calib_dt['gb_clk']"
   ]
  },
  {
   "cell_type": "code",
   "execution_count": 9,
   "metadata": {},
   "outputs": [],
   "source": [
    "# Flag to include mount controllable modes\n",
    "include_mount = False"
   ]
  },
  {
   "cell_type": "code",
   "execution_count": 10,
   "metadata": {},
   "outputs": [
    {
     "name": "stdout",
     "output_type": "stream",
     "text": [
      "dict_keys(['De', 'wfs48', 'D', 'wfsMask', 'M'])\n"
     ]
    },
    {
     "data": {
      "text/plain": [
       "<matplotlib.colorbar.Colorbar at 0x7fb6dcd03b00>"
      ]
     },
     "execution_count": 10,
     "metadata": {},
     "output_type": "execute_result"
    },
    {
     "data": {
      "image/png": "[encoded data removed]",
      "text/plain": [
       "<Figure size 1152x432 with 2 Axes>"
      ]
     },
     "metadata": {
      "needs_background": "light"
     },
     "output_type": "display_data"
    }
   ],
   "source": [
    "dt = np.load('../Calibration/calib_dt_GSH0p5fluxTH_46BM_LoFi.npz', allow_pickle=True)\n",
    "print(dt['calibdt'][()].keys())\n",
    "#M1-RBM\n",
    "Dm1 = block_diag(*[Dseg[:,:6] for Dseg in dt['calibdt'][()]['D'][:-1]])\n",
    "Dm1 = block_diag(Dm1,dt['calibdt'][()]['D'][-1][:,:5])\n",
    "#M2-RBM\n",
    "Dm2 = block_diag(*[Dseg[:,6:12] for Dseg in dt['calibdt'][()]['D'][:-1]])\n",
    "Dm2 = block_diag(Dm2,dt['calibdt'][()]['D'][-1][:,5:10])\n",
    "#M1BM\n",
    "Dbm = block_diag(*[Dseg[:,12:12+n_bm] for Dseg in dt['calibdt'][()]['D'][:-1]])\n",
    "Dbm = block_diag(Dbm,dt['calibdt'][()]['D'][-1][:,10:10+n_bm])\n",
    "\n",
    "# Compute SH-WFS consolidated interaction matrix (FEM compatible ordering)\n",
    "Dsh = np.hstack((Dm1,Dm2,Dbm))\n",
    "\n",
    "\n",
    "dt_p = np.load('../Calibration/piston_mount_calib_dt_end2end.npz', allow_pickle=True)\n",
    "plt.figure(figsize=(16,6))\n",
    "plt.imshow(dt_p['calibdt'][()]['Dp'][:,:])\n",
    "\n",
    "plt.colorbar()"
   ]
  },
  {
   "cell_type": "code",
   "execution_count": 11,
   "metadata": {},
   "outputs": [
    {
     "name": "stdout",
     "output_type": "stream",
     "text": [
      "-> 6432x271 interaction matrix was loaded successfully.\n"
     ]
    }
   ],
   "source": [
    "# Compute SH-WFS consolidated interaction matrix\n",
    "\n",
    "Dm1 = block_diag(*[Dseg[:,:6] for Dseg in D[:-1]])\n",
    "Dm1 = block_diag(Dm1, D[-1][:,:5])\n",
    "\n",
    "Dm2 = block_diag(*[Dseg[:,6:12] for Dseg in D[:-1]])\n",
    "Dm2 = block_diag(Dm2, D[-1][:,5:10])\n",
    "\n",
    "Dbm = block_diag(*[Dseg[:,12:12+n_bm] for Dseg in D[:-1]])\n",
    "Dbm = block_diag(Dbm, D[-1][:,10:10+n_bm])\n",
    "\n",
    "Dsh = np.hstack((Dm1, Dm2, Dbm))\n",
    "\n",
    "#Dsh = la.block_diag(*[Dseg[:,:12+n_bm] for Dseg in D[:-1]])\n",
    "#Dsh = la.block_diag(Dsh,D[-1][:,:10+n_bm])\n",
    "print(\"-> %dx%d interaction matrix was loaded successfully.\"%\n",
    "      (Dsh.shape[0],Dsh.shape[1]))\n"
   ]
  },
  {
   "cell_type": "markdown",
   "metadata": {},
   "source": [
    "Plot comparison of singular values with and without Mount axes"
   ]
  },
  {
   "cell_type": "code",
   "execution_count": 12,
   "metadata": {
    "tags": []
   },
   "outputs": [],
   "source": [
    "if (False) and include_mount:\n",
    "    U,sigma,V = np.linalg.svd(Dwfs[:,:-2], full_matrices=False)        \n",
    "    print('Weakest singular values :\\n',sigma[-15:])\n",
    "    U_,sigma_,V_ = np.linalg.svd(Dwfs, full_matrices=False)\n",
    "    import matplotlib.pyplot as plt\n",
    "    plt.figure(figsize=(16,6))    \n",
    "    plt.semilogy(sigma[:],'s-', label='wo mount')\n",
    "    plt.semilogy(sigma_[:], 'd-.', label='with mount')\n",
    "    plt.grid()\n",
    "    plt.legend()\n",
    "    plt.xlabel('# Mode')\n",
    "    plt.ylabel('Dwfs singular values')\n",
    "    plt.show()"
   ]
  },
  {
   "cell_type": "markdown",
   "metadata": {},
   "source": [
    "#### AcO reconstructor+controller settings"
   ]
  },
  {
   "cell_type": "code",
   "execution_count": 32,
   "metadata": {
    "tags": []
   },
   "outputs": [],
   "source": [
    "if include_mount:\n",
    "    Dsh = np.hstack([Dsh, Dm])\n",
    "\n",
    "# Maximum actuator command values\n",
    "# [ID 36136]: M1 Segment Active Optics Range of Motion\n",
    "max_m1RBM = [3.0e-3,4.75e-3,4e-3] + [6.5e-4,5.75e-4,5.75e-4]\n",
    "# [ID 36168]: M2 Segment Active Optic Range of Motion\n",
    "# max_m2RBM = [11.0e-3,11.0e-3,12.0e-3] + [3e-3,3e-3,3e-3]\n",
    "max_m2RBM = [3.0e-4,3.0e-4,3.0e-4] + [3.5e-3,3.5e-3,3.5e-3]\n",
    "max_Fz = 147\n",
    "max_az_el = [1e-2,1e-2]\n",
    "\n",
    "# AcO configuration parameters\n",
    "rho_p = 1.0e-3 #5.0e-4 #5.0e-6\n",
    "rho_s = 0.0*1.0e-8\n",
    "rho_rbm1 = 4\n",
    "rho_rbm2 = 1\n",
    "rho_Fz = 0.1*(12/165)**2\n",
    "rho_m = 50\n",
    "    "
   ]
  },
  {
   "cell_type": "code",
   "execution_count": 33,
   "metadata": {},
   "outputs": [
    {
     "data": {
      "image/png": "[encoded data removed]",
      "text/plain": [
       "<Figure size 576x288 with 1 Axes>"
      ]
     },
     "metadata": {
      "needs_background": "light"
     },
     "output_type": "display_data"
    },
    {
     "name": "stdout",
     "output_type": "stream",
     "text": [
      "M1 TxyzRxyz weights:\n",
      " [ 0.151511  0.151511  0.151511  0.151511  0.151511] ...(41 entries)\n",
      "M2 TxyzRxyz weights:\n",
      " [ 0.037878  0.037878  0.037878  0.037878  0.037878] ...(41 entries)\n",
      "Fz weights:\n",
      " [ 0.000016  0.000016  0.000016  0.000016  0.000016] ...\n",
      "\n",
      "Dimension of the vector of actuator limits:1228\n"
     ]
    }
   ],
   "source": [
    "# Get weighting matrices\n",
    "\n",
    "if (Dp.shape[1] == 82):\n",
    "    # Include zero columns corresponfing to bending modes \n",
    "    DpwBM = np.hstack([Dp, np.zeros((Dp.shape[0],7*n_bm))])\n",
    "else:\n",
    "    print('There is an unexpected number of columns in Piston calibration matrix Dp!')\n",
    "\n",
    "if not include_mount:\n",
    "    W2, Rs = get_aco_recW2(Dsh, wfsMask, DpwBM=DpwBM, rho_p=rho_p, rho_s=rho_s,plotPistonRegMat=True)#, gb_clk=gb_clk)\n",
    "    W3 = get_aco_recW3(rho_rbm1=rho_rbm1, rho_rbm2=rho_rbm2, rho_Fz=rho_Fz)\n",
    "else:\n",
    "    W2, Rs = get_aco_recW2(Dsh, wfsMask, DpwBM=DpwBM, rho_p=rho_p, rho_s=rho_s, \n",
    "                                    Dp_az=Dp_az,Dp_el=Dp_el)\n",
    "    W3 = get_aco_recW3(rho_rbm1=rho_rbm1, rho_rbm2=rho_rbm2, rho_Fz=rho_Fz, rho_m=rho_m)\n",
    "\n",
    "# Print reconstructor regularization weights\n",
    "if(0):\n",
    "    np.set_printoptions(formatter={'float': '{: 0.6f}'.format})\n",
    "    # Include M1/M2 S7 Rz\n",
    "    aux = np.insert(np.diag(W3),[72+(165*6)+5,72+(165*6)+10],0)\n",
    "    if include_mount:\n",
    "        print('Mount weights:\\n',aux[-2:])\n",
    "        aux = np.reshape(np.append(aux[:-2],np.array([0]*11)),[7,12+165])\n",
    "    else:\n",
    "        aux = np.reshape(np.append(aux,np.array([0]*11)),[7,12+165])    \n",
    "   # Get weights from split     \n",
    "    _wM1rbm,_wM2rbm,_wBM = np.split(aux,[6,12],axis=1)\n",
    "    print('M1/TxyzRxyz weights:\\n',_wM1rbm[[0,6]])\n",
    "    print('M2/TxyzRxyz weights:\\n',_wM2rbm[[0,6]])\n",
    "    print('Fz weights:\\n',_wBM[0,:5],'...')\n",
    "    np.set_printoptions(formatter=None)\n",
    "\n",
    "\n",
    "# Bending modes' data\n",
    "Afz = {}\n",
    "# OA segment weights\n",
    "filepath = os.path.join('../gmt_model_dt','m1s1_Af.mat')\n",
    "Afz['outer'] = spio.loadmat(filepath)['afprime']\n",
    "_U,s_oa,V_oaT = la.svd(Afz['outer'],0)\n",
    "bm2Fz_oa = np.dot(V_oaT.T, np.diag(1/s_oa)[:,:n_bm])\n",
    "# CS (center segment) weights\n",
    "filepath = os.path.join('../gmt_model_dt','m1s7_Af.mat')\n",
    "Afz['center'] = spio.loadmat(filepath)['afprime']\n",
    "_U,s_cs,V_csT = la.svd(Afz['center'],0)\n",
    "bm2Fz_cs = np.dot(V_csT.T, np.diag(1/s_cs)[:,:n_bm])\n",
    "\n",
    "\n",
    "# Transformation matrix from ctrlb modes to actuator action domain\n",
    "fz_factor = np.mean(max_m1RBM + max_m2RBM)/max_Fz\n",
    "_Tu = block_diag( np.eye(84), np.kron(np.eye(6),fz_factor*bm2Fz_oa), fz_factor*bm2Fz_cs)\n",
    "_TuwoS7Rz = block_diag( np.eye(82), np.kron(np.eye(6),fz_factor*bm2Fz_oa), fz_factor*bm2Fz_cs)\n",
    "# Actuator ranges [M1_RBM;M2_RBM;M1_SA_F]\n",
    "rbm_ranges = max_m1RBM*7 + max_m2RBM*7\n",
    "u_ranges = rbm_ranges + [fz_factor*max_Fz]*bm2Fz_oa.shape[0]*6 + [fz_factor*max_Fz]*bm2Fz_cs.shape[0]\n",
    "print('\\nDimension of the vector of actuator limits:%d'%len(u_ranges))\n",
    "\n",
    "# Control action upper limits vector\n",
    "umax = np.array(u_ranges) # np.array([]) # \n",
    "    \n",
    "if include_mount:\n",
    "    _Tu = block_diag(_Tu,np.eye(2))\n",
    "    _TuwoS7Rz = block_diag(_TuwoS7Rz,np.eye(2))\n",
    "    umax = np.hstack([umax, np.array(max_az_el)]) # np.array([]) #\n",
    "\n",
    "# AcO integral controller gain\n",
    "k_I = 0.5\n",
    "\n",
    "# Active Optics dictionary data\n",
    "W3 = _TuwoS7Rz.T @ W3 @ _TuwoS7Rz\n",
    "\n",
    "\n",
    "data = {'SHAcO_qp':{'D':Dsh,'W2':W2,'W3':W3,'K':k_I,\n",
    "                    'wfsMask':calib_dt['wfsMask'],\n",
    "                    'umin':-umax, 'umax':umax,'rm_mean_slopes':True,\n",
    "                    '_Tu':_Tu, 'rho_3':1.0e-1, 'end2end_ordering':True}} #'J1_J3_ratio':10"
   ]
  },
  {
   "cell_type": "markdown",
   "metadata": {},
   "source": [
    "Save AcO tuning file"
   ]
  },
  {
   "cell_type": "code",
   "execution_count": 34,
   "metadata": {},
   "outputs": [
    {
     "name": "stdout",
     "output_type": "stream",
     "text": [
      "SHAcO_qp_rhoP1e-3_k0p5.pickle 0.001\n"
     ]
    }
   ],
   "source": [
    "acogain_str = str(k_I).replace(\".\", \"p\")\n",
    "rhoP_str = np.log10(rho_p)\n",
    "AcO_filename = 'SHAcO_qp_rhoP1e%.1g_k%s.pickle'% (rhoP_str,acogain_str)\n",
    "print(AcO_filename, rho_p)"
   ]
  },
  {
   "cell_type": "code",
   "execution_count": 35,
   "metadata": {},
   "outputs": [
    {
     "name": "stdout",
     "output_type": "stream",
     "text": [
      "AcO data saved as SHAcO_qp_rhoP1e-3_k0p5.pickle\n"
     ]
    }
   ],
   "source": [
    "# AcO_filename = 'SHAcO_qp_rhoP5e-4_k0p5.pickle'\n",
    "# Pickles MPC data into string representation\n",
    "with open(AcO_filename,'wb') as f:\n",
    "    pickle.dump(data,f)\n",
    "    print('AcO data saved as %s' %AcO_filename)"
   ]
  },
  {
   "cell_type": "markdown",
   "metadata": {},
   "source": [
    "Check conditioning improvement due to regularization"
   ]
  },
  {
   "cell_type": "code",
   "execution_count": 36,
   "metadata": {
    "tags": []
   },
   "outputs": [
    {
     "name": "stdout",
     "output_type": "stream",
     "text": [
      "Condition number improvement:\n",
      "\n",
      "Due to W2: 57006.44470090717\n",
      "Due to W2 and W3: 59921.970047033225\n"
     ]
    }
   ],
   "source": [
    "condDTD = np.linalg.cond(Dsh.T.dot(Dsh))\n",
    "print('Condition number improvement:\\n')\n",
    "print('Due to W2:',condDTD/np.linalg.cond(Dsh.T.dot(Dsh)+W2))\n",
    "print('Due to W2 and W3:',condDTD/np.linalg.cond(Dsh.T.dot(Dsh)+W2+5.0e-7*k_I*W3*k_I))"
   ]
  },
  {
   "cell_type": "markdown",
   "metadata": {},
   "source": [
    "Cells to evaluate the AcO reconstructor"
   ]
  },
  {
   "cell_type": "code",
   "execution_count": 24,
   "metadata": {},
   "outputs": [],
   "source": [
    "def plot_AcO_RdotD(RD,m1_cmap='Spectral'):\n",
    "    plt.figure(figsize=(14,5))\n",
    "    # M1 modes\n",
    "    plt.subplot(1,2,1)\n",
    "    m1RD = RD[:42,:42]\n",
    "    pcm1 = plt.imshow(m1RD,cmap=plt.get_cmap(m1_cmap))\n",
    "    plt.colorbar(pcm1,label='Contribution (Gain)')\n",
    "    plt.title('M1 reconstruction')\n",
    "    cn = 4\n",
    "    for k in range(6):\n",
    "        plt.axhspan(6*k,6*(k+1), color=f'C{(k%2)+cn}', alpha=0.1)\n",
    "        plt.axvspan(6*k,6*(k+1), color=f'C{(k%2)+cn}', alpha=0.1)\n",
    "        plt.axvspan(6*(k+1),6*(k+1), color=f'C{cn}', alpha=0.3)\n",
    "        plt.axhspan(6*(k+1),6*(k+1), color=f'C{cn}', alpha=0.3)\n",
    "        \n",
    "    labelsDT = [plt.text(x+1.5,42,f'S{(k % 7)+1}',verticalalignment='top',fontweight='bold') \n",
    "                for k,x in enumerate(range(0,42,6),0)]            \n",
    "    labelsDT = [plt.text(-3.5,y+4,f'S{(k % 7)+1}',horizontalalignment='left',fontweight='bold') \n",
    "                for k,y in enumerate(range(0,42,6),0)]\n",
    "    plt.yticks(np.arange(0,42,6),labels = []); plt.xticks(np.arange(0,42,6),labels = [])  \n",
    "\n",
    "    # M2 modes\n",
    "    plt.subplot(1,2,2)\n",
    "    m2RD = RD[42:84,42:84]\n",
    "    pcm2=plt.imshow(m2RD,vmax=np.max(m2RD),vmin=-np.max(m2RD),cmap=plt.get_cmap('Spectral'))\n",
    "    plt.colorbar(pcm2,label='Contribution (Gain)')\n",
    "    plt.title('M2 reconstruction')\n",
    "    for k in range(6):\n",
    "        plt.axhspan(6*k,6*(k+1), color=f'C{(k%2)+cn}', alpha=0.1)\n",
    "        plt.axvspan(6*k,6*(k+1), color=f'C{(k%2)+cn}', alpha=0.1)\n",
    "        plt.axvspan(6*(k+1),6*(k+1),color=f'C{cn}', alpha=0.3)\n",
    "        plt.axhspan(6*(k+1),6*(k+1), color=f'C{cn}', alpha=0.3)\n",
    "        \n",
    "    labelsDT = [plt.text(x+1.5,42,f'S{(k % 7)+1}',verticalalignment='top',fontweight='bold') \n",
    "                for k,x in enumerate(range(0,42,6),0)]            \n",
    "    labelsDT = [plt.text(-3.5,y+4,f'S{(k % 7)+1}',horizontalalignment='left',fontweight='bold') \n",
    "                for k,y in enumerate(range(0,42,6),0)]\n",
    "    plt.yticks(np.arange(0,42,6),labels = []); plt.xticks(np.arange(0,42,6),labels = [])\n",
    "    # OA & CS Segments\n",
    "    plt.figure(figsize=(14,3))\n",
    "\n",
    "    titles = ['M1-S1(OA)','M1-S7(CS)','M2-S1(OA)','M2-S7(CS)']\n",
    "    ticklabels = ['Tx','Ty','Tz','Rx','Ry','Rz']\n",
    "    res = [RD[:6,:6],RD[36:42,36:42],RD[42:48,42:48],RD[78:84,78:84]]\n",
    "    vlim = [np.max(m1RD),np.max(m2RD)]\n",
    "    for k in range(4):\n",
    "        plt.subplot(1,4,k+1)\n",
    "        plt.imshow(res[k],vmax=vlim[np.int(k/2)],vmin=-vlim[np.int(k/2)],cmap=plt.get_cmap('Spectral'))\n",
    "        plt.title(titles[k])\n",
    "        for k in range(6):\n",
    "            plt.axvspan((k+.45),(k+.45),color=f'C{cn}', alpha=0.2)\n",
    "            plt.axhspan((k+.45),(k+.45), color=f'C{cn}', alpha=0.2)\n",
    "        labelsDT = [plt.text(x-0.3,5.8,ticklabels[kk],verticalalignment='top',fontweight='bold') \n",
    "                for kk,x in enumerate(range(0,6),0)]            \n",
    "        labelsDT = [plt.text(-1.35,y+.15,ticklabels[kk],horizontalalignment='left',fontweight='bold') \n",
    "                for kk,y in enumerate(range(0,6),0)]\n",
    "        plt.yticks(np.arange(6),labels = []); plt.xticks(np.arange(6),labels = [])"
   ]
  },
  {
   "cell_type": "code",
   "execution_count": 37,
   "metadata": {},
   "outputs": [
    {
     "data": {
      "image/png": "[encoded data removed]",
      "text/plain": [
       "<Figure size 1008x360 with 4 Axes>"
      ]
     },
     "metadata": {
      "needs_background": "light"
     },
     "output_type": "display_data"
    },
    {
     "data": {
      "image/png": "[encoded data removed]",
      "text/plain": [
       "<Figure size 1008x216 with 4 Axes>"
      ]
     },
     "metadata": {
      "needs_background": "light"
     },
     "output_type": "display_data"
    }
   ],
   "source": [
    "W2, Rs = get_aco_recW2(Dsh, wfsMask, DpwBM=DpwBM, rho_p=1e-3, rho_s=rho_s)#, gb_clk=gb_clk)\n",
    "\n",
    "# - - - NO Probe mean slope removal matrix Rs \n",
    "left_sym_inv = la.pinv(Dsh.T.dot(Dsh) + W2)\n",
    "R = left_sym_inv.dot(Dsh.T)\n",
    "R = np.insert(R,[36+5,82],0,axis=0)\n",
    "# Linear reconstruction bias\n",
    "Dwfs_withS7Rz = np.insert(Dsh,[36+5,82],0,axis=1)\n",
    "\n",
    "RD = R.dot(Dwfs_withS7Rz)\n",
    "plot_AcO_RdotD(RD)\n"
   ]
  },
  {
   "cell_type": "code",
   "execution_count": 40,
   "metadata": {},
   "outputs": [
    {
     "data": {
      "image/png": "[encoded data removed]",
      "text/plain": [
       "<Figure size 1008x360 with 4 Axes>"
      ]
     },
     "metadata": {
      "needs_background": "light"
     },
     "output_type": "display_data"
    },
    {
     "data": {
      "image/png": "[encoded data removed]",
      "text/plain": [
       "<Figure size 1008x216 with 4 Axes>"
      ]
     },
     "metadata": {
      "needs_background": "light"
     },
     "output_type": "display_data"
    }
   ],
   "source": [
    "W2, Rs = get_aco_recW2(Dsh, wfsMask, DpwBM=DpwBM, rho_p=1e-6, rho_s=rho_s)#, gb_clk=gb_clk)\n",
    "\n",
    "# - - - NO Probe mean slope removal matrix Rs \n",
    "left_sym_inv = la.pinv(Dsh.T.dot(Dsh) + W2)\n",
    "R = left_sym_inv.dot(Dsh.T)\n",
    "R = np.insert(R,[36+5,82],0,axis=0)\n",
    "\n",
    "# Linear reconstruction bias\n",
    "Dwfs_withS7Rz = np.insert(Dsh,[36+5,82],0,axis=1)\n",
    "RD = R.dot(Dwfs_withS7Rz)\n",
    "plot_AcO_RdotD(RD)\n"
   ]
  },
  {
   "cell_type": "code",
   "execution_count": null,
   "metadata": {},
   "outputs": [],
   "source": []
  }
 ],
 "metadata": {
  "kernelspec": {
   "display_name": "Python 3",
   "language": "python",
   "name": "python3"
  },
  "language_info": {
   "codemirror_mode": {
    "name": "ipython",
    "version": 3
   },
   "file_extension": ".py",
   "mimetype": "text/x-python",
   "name": "python",
   "nbconvert_exporter": "python",
   "pygments_lexer": "ipython3",
   "version": "3.7.3"
  }
 },
 "nbformat": 4,
 "nbformat_minor": 4
}
