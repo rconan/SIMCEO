{
 "cells": [
  {
   "cell_type": "markdown",
   "metadata": {},
   "source": [
    "# Save yaml files for SIMCEO drivers"
   ]
  },
  {
   "cell_type": "markdown",
   "metadata": {},
   "source": [
    "- TT7 Controller\n",
    "- FSM Controller\n",
    "- AZ, EL, and GIR Controller\n",
    "- M2 Positioner (ad hoc) dynamic model\n",
    "- State-space (SS) representation to merge M2 FEM and positioner outputs\n",
    "- SS model to merge AcO bending mode corrections and the M1 support actuator forces"
   ]
  },
  {
   "cell_type": "code",
   "execution_count": 1,
   "metadata": {},
   "outputs": [],
   "source": [
    "import numpy as np\n",
    "import scipy.io as spio\n",
    "#import scipy.linalg as la\n",
    "from scipy import signal\n",
    "\n",
    "import os\n",
    "from os import path\n",
    "\n",
    "from ruamel import yaml\n",
    "from ruamel.yaml import YAML\n",
    "y = YAML()\n",
    "y.default_flow_style = None\n",
    "\n",
    "import pickle\n",
    "\n",
    "import matplotlib.pyplot as plt\n",
    "%matplotlib inline"
   ]
  },
  {
   "cell_type": "markdown",
   "metadata": {},
   "source": [
    "### Load IMS data file with controllers and interface parameters"
   ]
  },
  {
   "cell_type": "code",
   "execution_count": 2,
   "metadata": {},
   "outputs": [
    {
     "output_type": "stream",
     "name": "stdout",
     "text": [
      "Telescope structural dynamics sampling frequency:1000Hz\n"
     ]
    }
   ],
   "source": [
    "# The files with controller and interface models are available from the GMT-IMS repository\n",
    "filepath = '/Users/rromano/Workspace/GMT-IMS/'\n",
    "# filename = os.path.join(filepath,'controls_5pt1d_OAD.mat')\n",
    "filename = os.path.join(filepath,'controls_5pt1d_dev.mat')\n",
    "\n",
    "gmt_Ts = spio.loadmat(filename)['fem']['Ts'][0][0][0][0]\n",
    "print('Telescope structural dynamics sampling frequency:%gHz'%(1/gmt_Ts))"
   ]
  },
  {
   "cell_type": "markdown",
   "metadata": {},
   "source": [
    "### Fast tip-tilt (TT) controller file (with PZT_cmd decoupled outputs)"
   ]
  },
  {
   "cell_type": "code",
   "execution_count": 3,
   "metadata": {
    "tags": []
   },
   "outputs": [
    {
     "output_type": "stream",
     "name": "stdout",
     "text": [
      "Controller dimensions: \nA: (56, 56) \nB: (56, 14) \nC: (14, 56) \nD: (14, 14)\nTT controller file saved as TT_control_dev.yaml \n"
     ]
    }
   ],
   "source": [
    "# TT feedback controller (SS) model\n",
    "tt7_fbC = spio.loadmat(filename)['tt7']['FBc_ss'][0][0][0][0]\n",
    "\n",
    "print('Controller dimensions:',\n",
    "      '\\nA:',tt7_fbC['A'].shape,\n",
    "      '\\nB:',tt7_fbC['B'].shape,\n",
    "      '\\nC:',tt7_fbC['C'].shape,\n",
    "      '\\nD:',tt7_fbC['D'].shape)\n",
    "\n",
    "tt7_ctrl_dt = {'System' :\n",
    "               {'sampling time': gmt_Ts.tolist(), #second ,\n",
    "                'parameters': {'A': tt7_fbC['A'].tolist(),\n",
    "                               'B': (-tt7_fbC['B']).tolist(),\n",
    "                               'C': (tt7_fbC['C']).tolist(),\n",
    "                               'D': (-tt7_fbC['D']).tolist()}\n",
    "               }}\n",
    "\n",
    "if filename[-7:] == 'dev.mat':\n",
    "    tt_yaml_file = 'TT_control_dev.yaml'\n",
    "else:\n",
    "    tt_yaml_file = 'TT_control_OAD.yaml'\n",
    "\n",
    "if True:\n",
    "    # Save fast TT controller yaml file\n",
    "    with open(tt_yaml_file,'w') as f:\n",
    "        y.dump(tt7_ctrl_dt, f)\n",
    "    print('TT controller file saved as %s ' %tt_yaml_file)        "
   ]
  },
  {
   "cell_type": "markdown",
   "metadata": {},
   "source": [
    "### M2 FSM feedback controller"
   ]
  },
  {
   "cell_type": "code",
   "execution_count": 4,
   "metadata": {
    "tags": []
   },
   "outputs": [
    {
     "output_type": "stream",
     "name": "stdout",
     "text": [
      "Controller dimensions: \nA: (168, 168) \nB: (168, 21) \nC: (21, 168) \nD: (21, 21)\n"
     ]
    }
   ],
   "source": [
    "fsm_fbC = spio.loadmat(filename)['mimo_fsmC'][0][0]\n",
    "print('Controller dimensions:',\n",
    "      '\\nA:',fsm_fbC['A'].shape,\n",
    "      '\\nB:',fsm_fbC['B'].shape,\n",
    "      '\\nC:',fsm_fbC['C'].shape,\n",
    "      '\\nD:',fsm_fbC['D'].shape)"
   ]
  },
  {
   "source": [
    "Choose fast TT loop input as `segTT` for pseudo TT sensor simulations. Otherwise, choose `m2Rxy` to match the `M2TT` output from the `wfs24` object."
   ],
   "cell_type": "markdown",
   "metadata": {}
  },
  {
   "cell_type": "code",
   "execution_count": 6,
   "metadata": {
    "tags": []
   },
   "outputs": [
    {
     "output_type": "stream",
     "name": "stdout",
     "text": [
      "FSM controller file saved as FSM_control_dev.yaml \n"
     ]
    }
   ],
   "source": [
    "# Select fast_TT controller input: segment-TT or M2-RxRy:\n",
    "# fastTT_in = 'segTT'\n",
    "fastTT_in = 'm2Rxy'\n",
    "\n",
    "# PZT commands decoupling matrix\n",
    "if fastTT_in == 'segTT':\n",
    "    pzt_dec_matrix = spio.loadmat(filename)['tt7']['TT2PZT'][0][0]\n",
    "elif fastTT_in == 'm2Rxy':\n",
    "    pzt_dec_matrix = spio.loadmat(filename)['tt7']['M2Rxy2PZT'][0][0]\n",
    "else:\n",
    "    pzt_dec_matrix = []\n",
    "    print('Choose fastTT_in among segTT and m2Rxy!')\n",
    "\n",
    "# Mapping from [r;y] to e (error signal)\n",
    "Me = np.hstack((pzt_dec_matrix,\n",
    "                np.kron(np.eye(7), np.hstack((np.eye(3),-np.eye(3))) ) ))\n",
    "# Matrix to dristribute the PZT forces (mirror and cell sides)\n",
    "Mu = np.kron(np.eye(7), np.vstack((-np.eye(3), np.eye(3))))\n",
    "\n",
    "fsm_ctrl_dt = {'System' :\n",
    "               {'sampling time': gmt_Ts.tolist(), #second ,\n",
    "                'parameters': {'A': fsm_fbC['A'].tolist(),\n",
    "                               'B': (fsm_fbC['B'] @ Me).tolist(),\n",
    "                               'C': (Mu @ fsm_fbC['C']).tolist(),\n",
    "                               'D': (Mu @ fsm_fbC['D'] @ Me).tolist()}\n",
    "               }}\n",
    "\n",
    "if filename[-7:] == 'dev.mat':\n",
    "    fsm_yaml_file = 'FSM_control_dev.yaml'\n",
    "else:\n",
    "    fsm_yaml_file = 'FSM_control_OAD.yaml'\n",
    "\n",
    "if True:\n",
    "    # Save fast TT controller yaml file\n",
    "    with open(fsm_yaml_file,'w') as f:\n",
    "        y.dump(fsm_ctrl_dt, f)\n",
    "    print('FSM controller file saved as %s ' %fsm_yaml_file)  "
   ]
  },
  {
   "cell_type": "markdown",
   "metadata": {},
   "source": [
    "### Mount controllers"
   ]
  },
  {
   "cell_type": "code",
   "execution_count": 7,
   "metadata": {
    "tags": []
   },
   "outputs": [
    {
     "output_type": "stream",
     "name": "stdout",
     "text": [
      "Mount Ts:0.005s (200Hz)\n"
     ]
    }
   ],
   "source": [
    "mount_fbC = spio.loadmat(filename)['mount'][0]\n",
    "print(\"Mount Ts:%0.3gs (%gHz)\"%(mount_fbC[0][0],1/mount_fbC[0][0]))\n",
    "\n",
    "# yaml filenames\n",
    "az_yaml_file = 'AZ_fb_ssC.yaml'\n",
    "el_yaml_file = 'EL_fb_ssC.yaml'\n",
    "gir_yaml_file = 'GIR_fb_ssC.yaml'"
   ]
  },
  {
   "cell_type": "markdown",
   "metadata": {},
   "source": [
    "#### Azimuth controller"
   ]
  },
  {
   "cell_type": "code",
   "execution_count": 8,
   "metadata": {
    "tags": []
   },
   "outputs": [
    {
     "output_type": "stream",
     "name": "stdout",
     "text": [
      "AZ radius:9.493s\nController dimensions: \nA: (7, 7) \nB: (7, 1) \nC: (1, 7) \nD: (1, 1)\nMount AZ controller file saved as AZ_fb_ssC.yaml \n"
     ]
    }
   ],
   "source": [
    "az = mount_fbC[0][1][0][0]\n",
    "az_fbC = az[0][0][0]\n",
    "drv_radius = az[4]\n",
    "print(\"AZ radius:%0.4gs\"%drv_radius)\n",
    "print('Controller dimensions:',\n",
    "      '\\nA:',az_fbC['A'].shape,\n",
    "      '\\nB:',az_fbC['B'].shape,\n",
    "      '\\nC:',az_fbC['C'].shape,\n",
    "      '\\nD:',az_fbC['D'].shape)\n",
    "\n",
    "# Mapping from [r;Az enc] to e (error signal)\n",
    "Me = np.hstack((np.atleast_2d(1),np.hstack((np.ones((1,4)),-np.ones((1,4))))/4/drv_radius))\n",
    "\n",
    "az_fbC_dt = {'System' :\n",
    "               {'sampling time': mount_fbC[0][0][0][0].tolist(), #second ,\n",
    "                'parameters': {'A': az_fbC['A'].tolist(),\n",
    "                               'B': (az_fbC['B'] @ Me).tolist(),\n",
    "                               'C': az_fbC['C'].tolist(),\n",
    "                               'D': (az_fbC['D'] @ Me).tolist()}\n",
    "               }}\n",
    "\n",
    "if True:\n",
    "    # Save fast AZ controller yaml file\n",
    "    with open(az_yaml_file,'w') as f:\n",
    "        y.dump(az_fbC_dt, f)\n",
    "    print('Mount AZ controller file saved as %s ' %az_yaml_file)"
   ]
  },
  {
   "cell_type": "markdown",
   "metadata": {},
   "source": [
    "#### Elevation controller"
   ]
  },
  {
   "cell_type": "code",
   "execution_count": 9,
   "metadata": {
    "tags": []
   },
   "outputs": [
    {
     "output_type": "stream",
     "name": "stdout",
     "text": [
      "EL radius:10.36s\nController dimensions: \nA: (11, 11) \nB: (11, 1) \nC: (1, 11) \nD: (1, 1)\nMount EL controller file saved as EL_fb_ssC.yaml \n"
     ]
    }
   ],
   "source": [
    "el = mount_fbC[0][2][0][0]\n",
    "el_fbC = el[0][0][0]\n",
    "drv_radius = el[4]\n",
    "print(\"EL radius:%0.4gs\"%drv_radius)\n",
    "print('Controller dimensions:',\n",
    "      '\\nA:',el_fbC['A'].shape,\n",
    "      '\\nB:',el_fbC['B'].shape,\n",
    "      '\\nC:',el_fbC['C'].shape,\n",
    "      '\\nD:',el_fbC['D'].shape)\n",
    "\n",
    "# Mapping from [r;Az enc] to e (error signal)\n",
    "Me = np.hstack((np.atleast_2d(1),np.hstack((np.ones((1,4)),-np.ones((1,4))))/4/drv_radius))\n",
    "\n",
    "el_fbC_dt = {'System' :\n",
    "               {'sampling time': mount_fbC[0][0][0][0].tolist(), #second ,\n",
    "                'parameters': {'A': el_fbC['A'].tolist(),\n",
    "                               'B': (el_fbC['B'] @ Me).tolist(),\n",
    "                               'C': el_fbC['C'].tolist(),\n",
    "                               'D': (el_fbC['D'] @ Me).tolist()}\n",
    "               }}\n",
    "\n",
    "if True:\n",
    "    # Save fast EL controller yaml file\n",
    "    with open(el_yaml_file,'w') as f:\n",
    "        y.dump(el_fbC_dt, f)\n",
    "    print('Mount EL controller file saved as %s ' %el_yaml_file)"
   ]
  },
  {
   "cell_type": "markdown",
   "metadata": {},
   "source": [
    "#### GIR controller"
   ]
  },
  {
   "cell_type": "code",
   "execution_count": 10,
   "metadata": {
    "tags": []
   },
   "outputs": [
    {
     "output_type": "stream",
     "name": "stdout",
     "text": [
      "(!) For now, we not convert from ENC GIR to GIR angular displacement\nController dimensions: \nA: (6, 6) \nB: (6, 1) \nC: (1, 6) \nD: (1, 1)\nMount GIR controller file saved as GIR_fb_ssC.yaml \n"
     ]
    }
   ],
   "source": [
    "gir = mount_fbC[0][3][0][0]\n",
    "gir_fbC = gir[0][0][0]\n",
    "print(\"(!) For now, we not convert from ENC GIR to GIR angular displacement\")\n",
    "print('Controller dimensions:',\n",
    "      '\\nA:',gir_fbC['A'].shape,\n",
    "      '\\nB:',gir_fbC['B'].shape,\n",
    "      '\\nC:',gir_fbC['C'].shape,\n",
    "      '\\nD:',gir_fbC['D'].shape)\n",
    "\n",
    "# Mapping from [r;Az enc] to e (error signal)\n",
    "Me = np.hstack((np.atleast_2d(1),np.hstack((np.ones((1,2)),-np.ones((1,2))))/2))\n",
    "\n",
    "gir_fbC_dt = {'System' :\n",
    "               {'sampling time': mount_fbC[0][0][0][0].tolist(), #second ,\n",
    "                'parameters': {'A': gir_fbC['A'].tolist(),\n",
    "                               'B': (gir_fbC['B'] @ Me).tolist(),\n",
    "                               'C': gir_fbC['C'].tolist(),\n",
    "                               'D': (gir_fbC['D'] @ Me).tolist()}\n",
    "               }}\n",
    "\n",
    "if True:\n",
    "    # Save fast GIR controller yaml file\n",
    "    with open(gir_yaml_file,'w') as f:\n",
    "        y.dump(gir_fbC_dt, f)\n",
    "    print('Mount GIR controller file saved as %s ' %gir_yaml_file)"
   ]
  },
  {
   "cell_type": "markdown",
   "metadata": {},
   "source": [
    "### M2 Positioner (ad hoc) dynamic model"
   ]
  },
  {
   "cell_type": "code",
   "execution_count": 11,
   "metadata": {
    "tags": []
   },
   "outputs": [
    {
     "output_type": "stream",
     "name": "stdout",
     "text": [
      "G(z): [0.00064363 0.00251838 0.00061593] [ 1.         -1.91201536  0.9157933 ] \n Ts: 0.005\nM2 Pos ad hoc TF file saved as M2Pos_adhoc_DynModel.yaml \n"
     ]
    }
   ],
   "source": [
    "# 2nd order TF parameters\n",
    "wn = 2*np.pi*2\n",
    "zeta = 0.7\n",
    "# CT TF\n",
    "ctM2PosTF = signal.TransferFunction([wn**2], [1, 2*zeta*wn, wn**2])\n",
    "M2PosTF = signal.cont2discrete((ctM2PosTF.num,ctM2PosTF.den), dt=5.0e-3, method='foh')\n",
    "print('G(z):',M2PosTF[0][0],M2PosTF[1],'\\n Ts:',M2PosTF[2])\n",
    "\n",
    "M2Pos_adhoc_DynModel_dt = {'System' :{\n",
    "    'sampling time': M2PosTF[2], \n",
    "    'parameters': { 'num': M2PosTF[0][0].tolist(),\n",
    "                    'denom': M2PosTF[1][:].tolist()}\n",
    "               }}\n",
    "m2Pos_yaml_file = 'M2Pos_adhoc_DynModel.yaml'\n",
    "\n",
    "if True:\n",
    "    # Save M2 Positioner (ad hoc) dynamic model yaml file\n",
    "    with open(m2Pos_yaml_file,'w') as f:\n",
    "        y.dump(M2Pos_adhoc_DynModel_dt, f)\n",
    "    print('M2 Pos ad hoc TF file saved as %s ' %m2Pos_yaml_file)\n"
   ]
  },
  {
   "cell_type": "code",
   "execution_count": 12,
   "metadata": {
    "tags": []
   },
   "outputs": [
    {
     "output_type": "display_data",
     "data": {
      "text/plain": "<Figure size 432x288 with 2 Axes>",
      "image/svg+xml": "<?xml version=\"1.0\" encoding=\"utf-8\" standalone=\"no\"?>\n<!DOCTYPE svg PUBLIC \"-//W3C//DTD SVG 1.1//EN\"\n  \"http://www.w3.org/Graphics/SVG/1.1/DTD/svg11.dtd\">\n<!-- Created with matplotlib (https://matplotlib.org/) -->\n<svg height=\"135.965284pt\" version=\"1.1\" viewBox=\"0 0 382.624716 135.965284\" width=\"382.624716pt\" xmlns=\"http://www.w3.org/2000/svg\" xmlns:xlink=\"http://www.w3.org/1999/xlink\">\n <defs>\n  <style type=\"text/css\">\n*{stroke-linecap:butt;stroke-linejoin:round;}\n  </style>\n </defs>\n <g id=\"figure_1\">\n  <g id=\"patch_1\">\n   <path d=\"M 0 135.965284 \nL 382.624716 135.965284 \nL 382.624716 0 \nL 0 0 \nz\n\" style=\"fill:none;\"/>\n  </g>\n  <g id=\"axes_1\">\n   <g id=\"patch_2\">\n    <path d=\"M 40.603125 98.409034 \nL 192.784943 98.409034 \nL 192.784943 22.318125 \nL 40.603125 22.318125 \nz\n\" style=\"fill:#ffffff;\"/>\n   </g>\n   <g clip-path=\"url(#pfceead08fa)\">\n    <image height=\"77\" id=\"imagefd0e16ac9b\" transform=\"scale(1 -1)translate(0 -77)\" width=\"153\" x=\"40.603125\" xlink:href=\"data:image/png;base64,\niVBORw0KGgoAAAANSUhEUgAAAJkAAABNCAYAAAC188aDAAAABHNCSVQICAgIfAhkiAAAAh5JREFUeJzt2dFNAzEQRVEHUQXfFEARSDRAs+kiVUAVKHzAAiIh7MvuW8+M76kgGnmu17B73D0fG2bZvxza091D75+Rxv7l0Fpr7abz78AAbnv/gAymjaRi8/yeFyWDHSW7gILpzn23UjLYUbIzKJju0sw4ZD9wuHRzZsZ1CTtK9ok/tGqU6lMy2A1fMr7DNNfMi5LBbtiSUTDNknlRMtgNVzIKplv68qZksBumZBRMt9bMyh8yDpdu7ZlxXcKudMn4V5HGVX1KBruSJeM7TOOeFyWDXamSUTDNVvOiZLArUTIKptvy5U3JYJe6ZBRM12NmaQ8Zf2jV9FxIrkvYpSsZV6QmwrwoGezSlCzCRmYSaV6UDHbhSxZpI7OI9vKmZLALWzIKpos6M0oGu3Ali7qNkUWfWahDFu2DNbroh2vCdQm7ECXLspFRZJsXJYNd15Jl28jess6LksGuS8mybmRPmV/elAx2m5aMgukqzIySwW6TklXYxq1Vmpn9kGX+YO2h0uGacF3CzlayihvpVHlelAx2q5es8ka6VP9upWSwW61kFEw3yswoGewWl2yUbVzTaDOjZLBbVLLqr6K1jVawyVWHbNRhXWv0eXFdwk4q2egbqWJeHygZ7GaVjI3U8Sj6Rslgd7FkFEzHzE5RMtidLRnbqGNmf6NksDspGa8iDQX739chY1ga5jUf1yXsdm+v98fW2Mi5KJiOksHuHVDW/oiY7mp5AAAAAElFTkSuQmCC\" y=\"-21.409034\"/>\n   </g>\n   <g id=\"matplotlib.axis_1\">\n    <g id=\"xtick_1\">\n     <g id=\"line2d_1\">\n      <defs>\n       <path d=\"M 0 0 \nL 0 3.5 \n\" id=\"m3f69f942dc\" style=\"stroke:#000000;stroke-width:0.8;\"/>\n      </defs>\n      <g>\n       <use style=\"stroke:#000000;stroke-width:0.8;\" x=\"41.508969\" xlink:href=\"#m3f69f942dc\" y=\"98.409034\"/>\n      </g>\n     </g>\n     <g id=\"text_1\">\n      <!-- 0 -->\n      <defs>\n       <path d=\"M 31.78125 66.40625 \nQ 24.171875 66.40625 20.328125 58.90625 \nQ 16.5 51.421875 16.5 36.375 \nQ 16.5 21.390625 20.328125 13.890625 \nQ 24.171875 6.390625 31.78125 6.390625 \nQ 39.453125 6.390625 43.28125 13.890625 \nQ 47.125 21.390625 47.125 36.375 \nQ 47.125 51.421875 43.28125 58.90625 \nQ 39.453125 66.40625 31.78125 66.40625 \nz\nM 31.78125 74.21875 \nQ 44.046875 74.21875 50.515625 64.515625 \nQ 56.984375 54.828125 56.984375 36.375 \nQ 56.984375 17.96875 50.515625 8.265625 \nQ 44.046875 -1.421875 31.78125 -1.421875 \nQ 19.53125 -1.421875 13.0625 8.265625 \nQ 6.59375 17.96875 6.59375 36.375 \nQ 6.59375 54.828125 13.0625 64.515625 \nQ 19.53125 74.21875 31.78125 74.21875 \nz\n\" id=\"DejaVuSans-48\"/>\n      </defs>\n      <g transform=\"translate(38.327719 113.007472)scale(0.1 -0.1)\">\n       <use xlink:href=\"#DejaVuSans-48\"/>\n      </g>\n     </g>\n    </g>\n    <g id=\"xtick_2\">\n     <g id=\"line2d_2\">\n      <g>\n       <use style=\"stroke:#000000;stroke-width:0.8;\" x=\"77.742735\" xlink:href=\"#m3f69f942dc\" y=\"98.409034\"/>\n      </g>\n     </g>\n     <g id=\"text_2\">\n      <!-- 20 -->\n      <defs>\n       <path d=\"M 19.1875 8.296875 \nL 53.609375 8.296875 \nL 53.609375 0 \nL 7.328125 0 \nL 7.328125 8.296875 \nQ 12.9375 14.109375 22.625 23.890625 \nQ 32.328125 33.6875 34.8125 36.53125 \nQ 39.546875 41.84375 41.421875 45.53125 \nQ 43.3125 49.21875 43.3125 52.78125 \nQ 43.3125 58.59375 39.234375 62.25 \nQ 35.15625 65.921875 28.609375 65.921875 \nQ 23.96875 65.921875 18.8125 64.3125 \nQ 13.671875 62.703125 7.8125 59.421875 \nL 7.8125 69.390625 \nQ 13.765625 71.78125 18.9375 73 \nQ 24.125 74.21875 28.421875 74.21875 \nQ 39.75 74.21875 46.484375 68.546875 \nQ 53.21875 62.890625 53.21875 53.421875 \nQ 53.21875 48.921875 51.53125 44.890625 \nQ 49.859375 40.875 45.40625 35.40625 \nQ 44.1875 33.984375 37.640625 27.21875 \nQ 31.109375 20.453125 19.1875 8.296875 \nz\n\" id=\"DejaVuSans-50\"/>\n      </defs>\n      <g transform=\"translate(71.380235 113.007472)scale(0.1 -0.1)\">\n       <use xlink:href=\"#DejaVuSans-50\"/>\n       <use x=\"63.623047\" xlink:href=\"#DejaVuSans-48\"/>\n      </g>\n     </g>\n    </g>\n    <g id=\"xtick_3\">\n     <g id=\"line2d_3\">\n      <g>\n       <use style=\"stroke:#000000;stroke-width:0.8;\" x=\"113.976502\" xlink:href=\"#m3f69f942dc\" y=\"98.409034\"/>\n      </g>\n     </g>\n     <g id=\"text_3\">\n      <!-- 40 -->\n      <defs>\n       <path d=\"M 37.796875 64.3125 \nL 12.890625 25.390625 \nL 37.796875 25.390625 \nz\nM 35.203125 72.90625 \nL 47.609375 72.90625 \nL 47.609375 25.390625 \nL 58.015625 25.390625 \nL 58.015625 17.1875 \nL 47.609375 17.1875 \nL 47.609375 0 \nL 37.796875 0 \nL 37.796875 17.1875 \nL 4.890625 17.1875 \nL 4.890625 26.703125 \nz\n\" id=\"DejaVuSans-52\"/>\n      </defs>\n      <g transform=\"translate(107.614002 113.007472)scale(0.1 -0.1)\">\n       <use xlink:href=\"#DejaVuSans-52\"/>\n       <use x=\"63.623047\" xlink:href=\"#DejaVuSans-48\"/>\n      </g>\n     </g>\n    </g>\n    <g id=\"xtick_4\">\n     <g id=\"line2d_4\">\n      <g>\n       <use style=\"stroke:#000000;stroke-width:0.8;\" x=\"150.210268\" xlink:href=\"#m3f69f942dc\" y=\"98.409034\"/>\n      </g>\n     </g>\n     <g id=\"text_4\">\n      <!-- 60 -->\n      <defs>\n       <path d=\"M 33.015625 40.375 \nQ 26.375 40.375 22.484375 35.828125 \nQ 18.609375 31.296875 18.609375 23.390625 \nQ 18.609375 15.53125 22.484375 10.953125 \nQ 26.375 6.390625 33.015625 6.390625 \nQ 39.65625 6.390625 43.53125 10.953125 \nQ 47.40625 15.53125 47.40625 23.390625 \nQ 47.40625 31.296875 43.53125 35.828125 \nQ 39.65625 40.375 33.015625 40.375 \nz\nM 52.59375 71.296875 \nL 52.59375 62.3125 \nQ 48.875 64.0625 45.09375 64.984375 \nQ 41.3125 65.921875 37.59375 65.921875 \nQ 27.828125 65.921875 22.671875 59.328125 \nQ 17.53125 52.734375 16.796875 39.40625 \nQ 19.671875 43.65625 24.015625 45.921875 \nQ 28.375 48.1875 33.59375 48.1875 \nQ 44.578125 48.1875 50.953125 41.515625 \nQ 57.328125 34.859375 57.328125 23.390625 \nQ 57.328125 12.15625 50.6875 5.359375 \nQ 44.046875 -1.421875 33.015625 -1.421875 \nQ 20.359375 -1.421875 13.671875 8.265625 \nQ 6.984375 17.96875 6.984375 36.375 \nQ 6.984375 53.65625 15.1875 63.9375 \nQ 23.390625 74.21875 37.203125 74.21875 \nQ 40.921875 74.21875 44.703125 73.484375 \nQ 48.484375 72.75 52.59375 71.296875 \nz\n\" id=\"DejaVuSans-54\"/>\n      </defs>\n      <g transform=\"translate(143.847768 113.007472)scale(0.1 -0.1)\">\n       <use xlink:href=\"#DejaVuSans-54\"/>\n       <use x=\"63.623047\" xlink:href=\"#DejaVuSans-48\"/>\n      </g>\n     </g>\n    </g>\n    <g id=\"xtick_5\">\n     <g id=\"line2d_5\">\n      <g>\n       <use style=\"stroke:#000000;stroke-width:0.8;\" x=\"186.444034\" xlink:href=\"#m3f69f942dc\" y=\"98.409034\"/>\n      </g>\n     </g>\n     <g id=\"text_5\">\n      <!-- 80 -->\n      <defs>\n       <path d=\"M 31.78125 34.625 \nQ 24.75 34.625 20.71875 30.859375 \nQ 16.703125 27.09375 16.703125 20.515625 \nQ 16.703125 13.921875 20.71875 10.15625 \nQ 24.75 6.390625 31.78125 6.390625 \nQ 38.8125 6.390625 42.859375 10.171875 \nQ 46.921875 13.96875 46.921875 20.515625 \nQ 46.921875 27.09375 42.890625 30.859375 \nQ 38.875 34.625 31.78125 34.625 \nz\nM 21.921875 38.8125 \nQ 15.578125 40.375 12.03125 44.71875 \nQ 8.5 49.078125 8.5 55.328125 \nQ 8.5 64.0625 14.71875 69.140625 \nQ 20.953125 74.21875 31.78125 74.21875 \nQ 42.671875 74.21875 48.875 69.140625 \nQ 55.078125 64.0625 55.078125 55.328125 \nQ 55.078125 49.078125 51.53125 44.71875 \nQ 48 40.375 41.703125 38.8125 \nQ 48.828125 37.15625 52.796875 32.3125 \nQ 56.78125 27.484375 56.78125 20.515625 \nQ 56.78125 9.90625 50.3125 4.234375 \nQ 43.84375 -1.421875 31.78125 -1.421875 \nQ 19.734375 -1.421875 13.25 4.234375 \nQ 6.78125 9.90625 6.78125 20.515625 \nQ 6.78125 27.484375 10.78125 32.3125 \nQ 14.796875 37.15625 21.921875 38.8125 \nz\nM 18.3125 54.390625 \nQ 18.3125 48.734375 21.84375 45.5625 \nQ 25.390625 42.390625 31.78125 42.390625 \nQ 38.140625 42.390625 41.71875 45.5625 \nQ 45.3125 48.734375 45.3125 54.390625 \nQ 45.3125 60.0625 41.71875 63.234375 \nQ 38.140625 66.40625 31.78125 66.40625 \nQ 25.390625 66.40625 21.84375 63.234375 \nQ 18.3125 60.0625 18.3125 54.390625 \nz\n\" id=\"DejaVuSans-56\"/>\n      </defs>\n      <g transform=\"translate(180.081534 113.007472)scale(0.1 -0.1)\">\n       <use xlink:href=\"#DejaVuSans-56\"/>\n       <use x=\"63.623047\" xlink:href=\"#DejaVuSans-48\"/>\n      </g>\n     </g>\n    </g>\n    <g id=\"text_6\">\n     <!-- Intputs -->\n     <defs>\n      <path d=\"M 9.8125 72.90625 \nL 19.671875 72.90625 \nL 19.671875 0 \nL 9.8125 0 \nz\n\" id=\"DejaVuSans-73\"/>\n      <path d=\"M 54.890625 33.015625 \nL 54.890625 0 \nL 45.90625 0 \nL 45.90625 32.71875 \nQ 45.90625 40.484375 42.875 44.328125 \nQ 39.84375 48.1875 33.796875 48.1875 \nQ 26.515625 48.1875 22.3125 43.546875 \nQ 18.109375 38.921875 18.109375 30.90625 \nL 18.109375 0 \nL 9.078125 0 \nL 9.078125 54.6875 \nL 18.109375 54.6875 \nL 18.109375 46.1875 \nQ 21.34375 51.125 25.703125 53.5625 \nQ 30.078125 56 35.796875 56 \nQ 45.21875 56 50.046875 50.171875 \nQ 54.890625 44.34375 54.890625 33.015625 \nz\n\" id=\"DejaVuSans-110\"/>\n      <path d=\"M 18.3125 70.21875 \nL 18.3125 54.6875 \nL 36.8125 54.6875 \nL 36.8125 47.703125 \nL 18.3125 47.703125 \nL 18.3125 18.015625 \nQ 18.3125 11.328125 20.140625 9.421875 \nQ 21.96875 7.515625 27.59375 7.515625 \nL 36.8125 7.515625 \nL 36.8125 0 \nL 27.59375 0 \nQ 17.1875 0 13.234375 3.875 \nQ 9.28125 7.765625 9.28125 18.015625 \nL 9.28125 47.703125 \nL 2.6875 47.703125 \nL 2.6875 54.6875 \nL 9.28125 54.6875 \nL 9.28125 70.21875 \nz\n\" id=\"DejaVuSans-116\"/>\n      <path d=\"M 18.109375 8.203125 \nL 18.109375 -20.796875 \nL 9.078125 -20.796875 \nL 9.078125 54.6875 \nL 18.109375 54.6875 \nL 18.109375 46.390625 \nQ 20.953125 51.265625 25.265625 53.625 \nQ 29.59375 56 35.59375 56 \nQ 45.5625 56 51.78125 48.09375 \nQ 58.015625 40.1875 58.015625 27.296875 \nQ 58.015625 14.40625 51.78125 6.484375 \nQ 45.5625 -1.421875 35.59375 -1.421875 \nQ 29.59375 -1.421875 25.265625 0.953125 \nQ 20.953125 3.328125 18.109375 8.203125 \nz\nM 48.6875 27.296875 \nQ 48.6875 37.203125 44.609375 42.84375 \nQ 40.53125 48.484375 33.40625 48.484375 \nQ 26.265625 48.484375 22.1875 42.84375 \nQ 18.109375 37.203125 18.109375 27.296875 \nQ 18.109375 17.390625 22.1875 11.75 \nQ 26.265625 6.109375 33.40625 6.109375 \nQ 40.53125 6.109375 44.609375 11.75 \nQ 48.6875 17.390625 48.6875 27.296875 \nz\n\" id=\"DejaVuSans-112\"/>\n      <path d=\"M 8.5 21.578125 \nL 8.5 54.6875 \nL 17.484375 54.6875 \nL 17.484375 21.921875 \nQ 17.484375 14.15625 20.5 10.265625 \nQ 23.53125 6.390625 29.59375 6.390625 \nQ 36.859375 6.390625 41.078125 11.03125 \nQ 45.3125 15.671875 45.3125 23.6875 \nL 45.3125 54.6875 \nL 54.296875 54.6875 \nL 54.296875 0 \nL 45.3125 0 \nL 45.3125 8.40625 \nQ 42.046875 3.421875 37.71875 1 \nQ 33.40625 -1.421875 27.6875 -1.421875 \nQ 18.265625 -1.421875 13.375 4.4375 \nQ 8.5 10.296875 8.5 21.578125 \nz\nM 31.109375 56 \nz\n\" id=\"DejaVuSans-117\"/>\n      <path d=\"M 44.28125 53.078125 \nL 44.28125 44.578125 \nQ 40.484375 46.53125 36.375 47.5 \nQ 32.28125 48.484375 27.875 48.484375 \nQ 21.1875 48.484375 17.84375 46.4375 \nQ 14.5 44.390625 14.5 40.28125 \nQ 14.5 37.15625 16.890625 35.375 \nQ 19.28125 33.59375 26.515625 31.984375 \nL 29.59375 31.296875 \nQ 39.15625 29.25 43.1875 25.515625 \nQ 47.21875 21.78125 47.21875 15.09375 \nQ 47.21875 7.46875 41.1875 3.015625 \nQ 35.15625 -1.421875 24.609375 -1.421875 \nQ 20.21875 -1.421875 15.453125 -0.5625 \nQ 10.6875 0.296875 5.421875 2 \nL 5.421875 11.28125 \nQ 10.40625 8.6875 15.234375 7.390625 \nQ 20.0625 6.109375 24.8125 6.109375 \nQ 31.15625 6.109375 34.5625 8.28125 \nQ 37.984375 10.453125 37.984375 14.40625 \nQ 37.984375 18.0625 35.515625 20.015625 \nQ 33.0625 21.96875 24.703125 23.78125 \nL 21.578125 24.515625 \nQ 13.234375 26.265625 9.515625 29.90625 \nQ 5.8125 33.546875 5.8125 39.890625 \nQ 5.8125 47.609375 11.28125 51.796875 \nQ 16.75 56 26.8125 56 \nQ 31.78125 56 36.171875 55.265625 \nQ 40.578125 54.546875 44.28125 53.078125 \nz\n\" id=\"DejaVuSans-115\"/>\n     </defs>\n     <g transform=\"translate(99.182315 126.685597)scale(0.1 -0.1)\">\n      <use xlink:href=\"#DejaVuSans-73\"/>\n      <use x=\"29.492188\" xlink:href=\"#DejaVuSans-110\"/>\n      <use x=\"92.871094\" xlink:href=\"#DejaVuSans-116\"/>\n      <use x=\"132.080078\" xlink:href=\"#DejaVuSans-112\"/>\n      <use x=\"195.556641\" xlink:href=\"#DejaVuSans-117\"/>\n      <use x=\"258.935547\" xlink:href=\"#DejaVuSans-116\"/>\n      <use x=\"298.144531\" xlink:href=\"#DejaVuSans-115\"/>\n     </g>\n    </g>\n   </g>\n   <g id=\"matplotlib.axis_2\">\n    <g id=\"ytick_1\">\n     <g id=\"line2d_6\">\n      <defs>\n       <path d=\"M 0 0 \nL -3.5 0 \n\" id=\"m5ad44a4bd9\" style=\"stroke:#000000;stroke-width:0.8;\"/>\n      </defs>\n      <g>\n       <use style=\"stroke:#000000;stroke-width:0.8;\" x=\"40.603125\" xlink:href=\"#m5ad44a4bd9\" y=\"23.223969\"/>\n      </g>\n     </g>\n     <g id=\"text_7\">\n      <!-- 0 -->\n      <g transform=\"translate(27.240625 27.023188)scale(0.1 -0.1)\">\n       <use xlink:href=\"#DejaVuSans-48\"/>\n      </g>\n     </g>\n    </g>\n    <g id=\"ytick_2\">\n     <g id=\"line2d_7\">\n      <g>\n       <use style=\"stroke:#000000;stroke-width:0.8;\" x=\"40.603125\" xlink:href=\"#m5ad44a4bd9\" y=\"59.457735\"/>\n      </g>\n     </g>\n     <g id=\"text_8\">\n      <!-- 20 -->\n      <g transform=\"translate(20.878125 63.256954)scale(0.1 -0.1)\">\n       <use xlink:href=\"#DejaVuSans-50\"/>\n       <use x=\"63.623047\" xlink:href=\"#DejaVuSans-48\"/>\n      </g>\n     </g>\n    </g>\n    <g id=\"ytick_3\">\n     <g id=\"line2d_8\">\n      <g>\n       <use style=\"stroke:#000000;stroke-width:0.8;\" x=\"40.603125\" xlink:href=\"#m5ad44a4bd9\" y=\"95.691502\"/>\n      </g>\n     </g>\n     <g id=\"text_9\">\n      <!-- 40 -->\n      <g transform=\"translate(20.878125 99.49072)scale(0.1 -0.1)\">\n       <use xlink:href=\"#DejaVuSans-52\"/>\n       <use x=\"63.623047\" xlink:href=\"#DejaVuSans-48\"/>\n      </g>\n     </g>\n    </g>\n    <g id=\"text_10\">\n     <!-- Outputs -->\n     <defs>\n      <path d=\"M 39.40625 66.21875 \nQ 28.65625 66.21875 22.328125 58.203125 \nQ 16.015625 50.203125 16.015625 36.375 \nQ 16.015625 22.609375 22.328125 14.59375 \nQ 28.65625 6.59375 39.40625 6.59375 \nQ 50.140625 6.59375 56.421875 14.59375 \nQ 62.703125 22.609375 62.703125 36.375 \nQ 62.703125 50.203125 56.421875 58.203125 \nQ 50.140625 66.21875 39.40625 66.21875 \nz\nM 39.40625 74.21875 \nQ 54.734375 74.21875 63.90625 63.9375 \nQ 73.09375 53.65625 73.09375 36.375 \nQ 73.09375 19.140625 63.90625 8.859375 \nQ 54.734375 -1.421875 39.40625 -1.421875 \nQ 24.03125 -1.421875 14.8125 8.828125 \nQ 5.609375 19.09375 5.609375 36.375 \nQ 5.609375 53.65625 14.8125 63.9375 \nQ 24.03125 74.21875 39.40625 74.21875 \nz\n\" id=\"DejaVuSans-79\"/>\n     </defs>\n     <g transform=\"translate(14.798438 80.336236)rotate(-90)scale(0.1 -0.1)\">\n      <use xlink:href=\"#DejaVuSans-79\"/>\n      <use x=\"78.710938\" xlink:href=\"#DejaVuSans-117\"/>\n      <use x=\"142.089844\" xlink:href=\"#DejaVuSans-116\"/>\n      <use x=\"181.298828\" xlink:href=\"#DejaVuSans-112\"/>\n      <use x=\"244.775391\" xlink:href=\"#DejaVuSans-117\"/>\n      <use x=\"308.154297\" xlink:href=\"#DejaVuSans-116\"/>\n      <use x=\"347.363281\" xlink:href=\"#DejaVuSans-115\"/>\n     </g>\n    </g>\n   </g>\n   <g id=\"patch_3\">\n    <path d=\"M 40.603125 98.409034 \nL 40.603125 22.318125 \n\" style=\"fill:none;stroke:#000000;stroke-linecap:square;stroke-linejoin:miter;stroke-width:0.8;\"/>\n   </g>\n   <g id=\"patch_4\">\n    <path d=\"M 192.784943 98.409034 \nL 192.784943 22.318125 \n\" style=\"fill:none;stroke:#000000;stroke-linecap:square;stroke-linejoin:miter;stroke-width:0.8;\"/>\n   </g>\n   <g id=\"patch_5\">\n    <path d=\"M 40.603125 98.409034 \nL 192.784943 98.409034 \n\" style=\"fill:none;stroke:#000000;stroke-linecap:square;stroke-linejoin:miter;stroke-width:0.8;\"/>\n   </g>\n   <g id=\"patch_6\">\n    <path d=\"M 40.603125 22.318125 \nL 192.784943 22.318125 \n\" style=\"fill:none;stroke:#000000;stroke-linecap:square;stroke-linejoin:miter;stroke-width:0.8;\"/>\n   </g>\n   <g id=\"text_11\">\n    <!-- Direct summ -->\n    <defs>\n     <path d=\"M 19.671875 64.796875 \nL 19.671875 8.109375 \nL 31.59375 8.109375 \nQ 46.6875 8.109375 53.6875 14.9375 \nQ 60.6875 21.78125 60.6875 36.53125 \nQ 60.6875 51.171875 53.6875 57.984375 \nQ 46.6875 64.796875 31.59375 64.796875 \nz\nM 9.8125 72.90625 \nL 30.078125 72.90625 \nQ 51.265625 72.90625 61.171875 64.09375 \nQ 71.09375 55.28125 71.09375 36.53125 \nQ 71.09375 17.671875 61.125 8.828125 \nQ 51.171875 0 30.078125 0 \nL 9.8125 0 \nz\n\" id=\"DejaVuSans-68\"/>\n     <path d=\"M 9.421875 54.6875 \nL 18.40625 54.6875 \nL 18.40625 0 \nL 9.421875 0 \nz\nM 9.421875 75.984375 \nL 18.40625 75.984375 \nL 18.40625 64.59375 \nL 9.421875 64.59375 \nz\n\" id=\"DejaVuSans-105\"/>\n     <path d=\"M 41.109375 46.296875 \nQ 39.59375 47.171875 37.8125 47.578125 \nQ 36.03125 48 33.890625 48 \nQ 26.265625 48 22.1875 43.046875 \nQ 18.109375 38.09375 18.109375 28.8125 \nL 18.109375 0 \nL 9.078125 0 \nL 9.078125 54.6875 \nL 18.109375 54.6875 \nL 18.109375 46.1875 \nQ 20.953125 51.171875 25.484375 53.578125 \nQ 30.03125 56 36.53125 56 \nQ 37.453125 56 38.578125 55.875 \nQ 39.703125 55.765625 41.0625 55.515625 \nz\n\" id=\"DejaVuSans-114\"/>\n     <path d=\"M 56.203125 29.59375 \nL 56.203125 25.203125 \nL 14.890625 25.203125 \nQ 15.484375 15.921875 20.484375 11.0625 \nQ 25.484375 6.203125 34.421875 6.203125 \nQ 39.59375 6.203125 44.453125 7.46875 \nQ 49.3125 8.734375 54.109375 11.28125 \nL 54.109375 2.78125 \nQ 49.265625 0.734375 44.1875 -0.34375 \nQ 39.109375 -1.421875 33.890625 -1.421875 \nQ 20.796875 -1.421875 13.15625 6.1875 \nQ 5.515625 13.8125 5.515625 26.8125 \nQ 5.515625 40.234375 12.765625 48.109375 \nQ 20.015625 56 32.328125 56 \nQ 43.359375 56 49.78125 48.890625 \nQ 56.203125 41.796875 56.203125 29.59375 \nz\nM 47.21875 32.234375 \nQ 47.125 39.59375 43.09375 43.984375 \nQ 39.0625 48.390625 32.421875 48.390625 \nQ 24.90625 48.390625 20.390625 44.140625 \nQ 15.875 39.890625 15.1875 32.171875 \nz\n\" id=\"DejaVuSans-101\"/>\n     <path d=\"M 48.78125 52.59375 \nL 48.78125 44.1875 \nQ 44.96875 46.296875 41.140625 47.34375 \nQ 37.3125 48.390625 33.40625 48.390625 \nQ 24.65625 48.390625 19.8125 42.84375 \nQ 14.984375 37.3125 14.984375 27.296875 \nQ 14.984375 17.28125 19.8125 11.734375 \nQ 24.65625 6.203125 33.40625 6.203125 \nQ 37.3125 6.203125 41.140625 7.25 \nQ 44.96875 8.296875 48.78125 10.40625 \nL 48.78125 2.09375 \nQ 45.015625 0.34375 40.984375 -0.53125 \nQ 36.96875 -1.421875 32.421875 -1.421875 \nQ 20.0625 -1.421875 12.78125 6.34375 \nQ 5.515625 14.109375 5.515625 27.296875 \nQ 5.515625 40.671875 12.859375 48.328125 \nQ 20.21875 56 33.015625 56 \nQ 37.15625 56 41.109375 55.140625 \nQ 45.0625 54.296875 48.78125 52.59375 \nz\n\" id=\"DejaVuSans-99\"/>\n     <path id=\"DejaVuSans-32\"/>\n     <path d=\"M 52 44.1875 \nQ 55.375 50.25 60.0625 53.125 \nQ 64.75 56 71.09375 56 \nQ 79.640625 56 84.28125 50.015625 \nQ 88.921875 44.046875 88.921875 33.015625 \nL 88.921875 0 \nL 79.890625 0 \nL 79.890625 32.71875 \nQ 79.890625 40.578125 77.09375 44.375 \nQ 74.3125 48.1875 68.609375 48.1875 \nQ 61.625 48.1875 57.5625 43.546875 \nQ 53.515625 38.921875 53.515625 30.90625 \nL 53.515625 0 \nL 44.484375 0 \nL 44.484375 32.71875 \nQ 44.484375 40.625 41.703125 44.40625 \nQ 38.921875 48.1875 33.109375 48.1875 \nQ 26.21875 48.1875 22.15625 43.53125 \nQ 18.109375 38.875 18.109375 30.90625 \nL 18.109375 0 \nL 9.078125 0 \nL 9.078125 54.6875 \nL 18.109375 54.6875 \nL 18.109375 46.1875 \nQ 21.1875 51.21875 25.484375 53.609375 \nQ 29.78125 56 35.6875 56 \nQ 41.65625 56 45.828125 52.96875 \nQ 50 49.953125 52 44.1875 \nz\n\" id=\"DejaVuSans-109\"/>\n    </defs>\n    <g transform=\"translate(78.075597 16.318125)scale(0.12 -0.12)\">\n     <use xlink:href=\"#DejaVuSans-68\"/>\n     <use x=\"77.001953\" xlink:href=\"#DejaVuSans-105\"/>\n     <use x=\"104.785156\" xlink:href=\"#DejaVuSans-114\"/>\n     <use x=\"145.867188\" xlink:href=\"#DejaVuSans-101\"/>\n     <use x=\"207.390625\" xlink:href=\"#DejaVuSans-99\"/>\n     <use x=\"262.371094\" xlink:href=\"#DejaVuSans-116\"/>\n     <use x=\"301.580078\" xlink:href=\"#DejaVuSans-32\"/>\n     <use x=\"333.367188\" xlink:href=\"#DejaVuSans-115\"/>\n     <use x=\"385.466797\" xlink:href=\"#DejaVuSans-117\"/>\n     <use x=\"448.845703\" xlink:href=\"#DejaVuSans-109\"/>\n     <use x=\"546.257812\" xlink:href=\"#DejaVuSans-109\"/>\n    </g>\n   </g>\n  </g>\n  <g id=\"axes_2\">\n   <g id=\"patch_7\">\n    <path d=\"M 223.221307 98.409034 \nL 375.403125 98.409034 \nL 375.403125 22.318125 \nL 223.221307 22.318125 \nz\n\" style=\"fill:#ffffff;\"/>\n   </g>\n   <g clip-path=\"url(#pba4bc7ce73)\">\n    <image height=\"77\" id=\"imagea41cd5f49c\" transform=\"scale(1 -1)translate(0 -77)\" width=\"153\" x=\"223.221307\" xlink:href=\"data:image/png;base64,\niVBORw0KGgoAAAANSUhEUgAAAJkAAABNCAYAAAC188aDAAAABHNCSVQICAgIfAhkiAAAAj1JREFUeJzt3OFNwzAQhuErYgp+MwBDILEAy3aLTlGmQOUPBpQmqUPz2Xfn95kgOPZ7jgQcXg/vF0OV4/lkb08vvR8jjOP5ZGZmD52fAwN47P0AEZQTScXqTNeLkkGOkq2gYNvN3VspGeSGL9larShYvbV1HHaTMQr3UbOOjEvIDVcyCraPLetIySCXsmRc5nX+MwkoGeRSlYz7ls49a0vJIJeiZBRM695fcaJkkAtTMr4Y29trQrjfZIzC9vZec8Yl5NyWjIK1p1pzSga5riXjMu+DempQMsh1KRn3LR9avQdKBrmmJaNgfrT8a3hKBrndS8YXo289pslum4xR6FvP98O4hNzdJaNgvnl4P5QMclUl4zIfj4eCFZQMcqsl83QaUM/bvx2lZJCbLRkFi8nre6NkkJstmbeT0JrXIizx/rxuf8e/B+8vayrK8zIuIUfJvnn77F8TpWAFJYPcMCW7dfojVCFawQpKBrn0JYt6+qci3RmnKBnkUpcs8ukvMpSYkkEudMkyfDEuyVCwIuwmyzAK52TaXAXjEnLhSpbxpJvl/bnMKBkacFeyzJf5JVnvlwUlg5yrkmU/0VOZ72F/UTLIuSjZKCe6GO3npWSQa1KyEb8Y54xWsEK+yUa7zM8ZdXMVjEvIyUo2+uk1Yw0KSga5u0q2dt8a/fRyF/1FySD3r5Jx11jG2lyjZJDbVDJO6TLWZhklg9xVyfhi3IaC3fazyVisbViveoxLyB0+P54vZpzIWhRsO0oGuS8WagX041whFwAAAABJRU5ErkJggg==\" y=\"-21.409034\"/>\n   </g>\n   <g id=\"matplotlib.axis_3\">\n    <g id=\"xtick_6\">\n     <g id=\"line2d_9\">\n      <g>\n       <use style=\"stroke:#000000;stroke-width:0.8;\" x=\"224.127151\" xlink:href=\"#m3f69f942dc\" y=\"98.409034\"/>\n      </g>\n     </g>\n     <g id=\"text_12\">\n      <!-- 0 -->\n      <g transform=\"translate(220.945901 113.007472)scale(0.1 -0.1)\">\n       <use xlink:href=\"#DejaVuSans-48\"/>\n      </g>\n     </g>\n    </g>\n    <g id=\"xtick_7\">\n     <g id=\"line2d_10\">\n      <g>\n       <use style=\"stroke:#000000;stroke-width:0.8;\" x=\"260.360917\" xlink:href=\"#m3f69f942dc\" y=\"98.409034\"/>\n      </g>\n     </g>\n     <g id=\"text_13\">\n      <!-- 20 -->\n      <g transform=\"translate(253.998417 113.007472)scale(0.1 -0.1)\">\n       <use xlink:href=\"#DejaVuSans-50\"/>\n       <use x=\"63.623047\" xlink:href=\"#DejaVuSans-48\"/>\n      </g>\n     </g>\n    </g>\n    <g id=\"xtick_8\">\n     <g id=\"line2d_11\">\n      <g>\n       <use style=\"stroke:#000000;stroke-width:0.8;\" x=\"296.594683\" xlink:href=\"#m3f69f942dc\" y=\"98.409034\"/>\n      </g>\n     </g>\n     <g id=\"text_14\">\n      <!-- 40 -->\n      <g transform=\"translate(290.232183 113.007472)scale(0.1 -0.1)\">\n       <use xlink:href=\"#DejaVuSans-52\"/>\n       <use x=\"63.623047\" xlink:href=\"#DejaVuSans-48\"/>\n      </g>\n     </g>\n    </g>\n    <g id=\"xtick_9\">\n     <g id=\"line2d_12\">\n      <g>\n       <use style=\"stroke:#000000;stroke-width:0.8;\" x=\"332.82845\" xlink:href=\"#m3f69f942dc\" y=\"98.409034\"/>\n      </g>\n     </g>\n     <g id=\"text_15\">\n      <!-- 60 -->\n      <g transform=\"translate(326.46595 113.007472)scale(0.1 -0.1)\">\n       <use xlink:href=\"#DejaVuSans-54\"/>\n       <use x=\"63.623047\" xlink:href=\"#DejaVuSans-48\"/>\n      </g>\n     </g>\n    </g>\n    <g id=\"xtick_10\">\n     <g id=\"line2d_13\">\n      <g>\n       <use style=\"stroke:#000000;stroke-width:0.8;\" x=\"369.062216\" xlink:href=\"#m3f69f942dc\" y=\"98.409034\"/>\n      </g>\n     </g>\n     <g id=\"text_16\">\n      <!-- 80 -->\n      <g transform=\"translate(362.699716 113.007472)scale(0.1 -0.1)\">\n       <use xlink:href=\"#DejaVuSans-56\"/>\n       <use x=\"63.623047\" xlink:href=\"#DejaVuSans-48\"/>\n      </g>\n     </g>\n    </g>\n    <g id=\"text_17\">\n     <!-- Intputs -->\n     <g transform=\"translate(281.800497 126.685597)scale(0.1 -0.1)\">\n      <use xlink:href=\"#DejaVuSans-73\"/>\n      <use x=\"29.492188\" xlink:href=\"#DejaVuSans-110\"/>\n      <use x=\"92.871094\" xlink:href=\"#DejaVuSans-116\"/>\n      <use x=\"132.080078\" xlink:href=\"#DejaVuSans-112\"/>\n      <use x=\"195.556641\" xlink:href=\"#DejaVuSans-117\"/>\n      <use x=\"258.935547\" xlink:href=\"#DejaVuSans-116\"/>\n      <use x=\"298.144531\" xlink:href=\"#DejaVuSans-115\"/>\n     </g>\n    </g>\n   </g>\n   <g id=\"matplotlib.axis_4\">\n    <g id=\"ytick_4\">\n     <g id=\"line2d_14\">\n      <g>\n       <use style=\"stroke:#000000;stroke-width:0.8;\" x=\"223.221307\" xlink:href=\"#m5ad44a4bd9\" y=\"23.223969\"/>\n      </g>\n     </g>\n     <g id=\"text_18\">\n      <!-- 0 -->\n      <g transform=\"translate(209.858807 27.023188)scale(0.1 -0.1)\">\n       <use xlink:href=\"#DejaVuSans-48\"/>\n      </g>\n     </g>\n    </g>\n    <g id=\"ytick_5\">\n     <g id=\"line2d_15\">\n      <g>\n       <use style=\"stroke:#000000;stroke-width:0.8;\" x=\"223.221307\" xlink:href=\"#m5ad44a4bd9\" y=\"59.457735\"/>\n      </g>\n     </g>\n     <g id=\"text_19\">\n      <!-- 20 -->\n      <g transform=\"translate(203.496307 63.256954)scale(0.1 -0.1)\">\n       <use xlink:href=\"#DejaVuSans-50\"/>\n       <use x=\"63.623047\" xlink:href=\"#DejaVuSans-48\"/>\n      </g>\n     </g>\n    </g>\n    <g id=\"ytick_6\">\n     <g id=\"line2d_16\">\n      <g>\n       <use style=\"stroke:#000000;stroke-width:0.8;\" x=\"223.221307\" xlink:href=\"#m5ad44a4bd9\" y=\"95.691502\"/>\n      </g>\n     </g>\n     <g id=\"text_20\">\n      <!-- 40 -->\n      <g transform=\"translate(203.496307 99.49072)scale(0.1 -0.1)\">\n       <use xlink:href=\"#DejaVuSans-52\"/>\n       <use x=\"63.623047\" xlink:href=\"#DejaVuSans-48\"/>\n      </g>\n     </g>\n    </g>\n   </g>\n   <g id=\"patch_8\">\n    <path d=\"M 223.221307 98.409034 \nL 223.221307 22.318125 \n\" style=\"fill:none;stroke:#000000;stroke-linecap:square;stroke-linejoin:miter;stroke-width:0.8;\"/>\n   </g>\n   <g id=\"patch_9\">\n    <path d=\"M 375.403125 98.409034 \nL 375.403125 22.318125 \n\" style=\"fill:none;stroke:#000000;stroke-linecap:square;stroke-linejoin:miter;stroke-width:0.8;\"/>\n   </g>\n   <g id=\"patch_10\">\n    <path d=\"M 223.221307 98.409034 \nL 375.403125 98.409034 \n\" style=\"fill:none;stroke:#000000;stroke-linecap:square;stroke-linejoin:miter;stroke-width:0.8;\"/>\n   </g>\n   <g id=\"patch_11\">\n    <path d=\"M 223.221307 22.318125 \nL 375.403125 22.318125 \n\" style=\"fill:none;stroke:#000000;stroke-linecap:square;stroke-linejoin:miter;stroke-width:0.8;\"/>\n   </g>\n   <g id=\"text_21\">\n    <!-- Reordered -->\n    <defs>\n     <path d=\"M 44.390625 34.1875 \nQ 47.5625 33.109375 50.5625 29.59375 \nQ 53.5625 26.078125 56.59375 19.921875 \nL 66.609375 0 \nL 56 0 \nL 46.6875 18.703125 \nQ 43.0625 26.03125 39.671875 28.421875 \nQ 36.28125 30.8125 30.421875 30.8125 \nL 19.671875 30.8125 \nL 19.671875 0 \nL 9.8125 0 \nL 9.8125 72.90625 \nL 32.078125 72.90625 \nQ 44.578125 72.90625 50.734375 67.671875 \nQ 56.890625 62.453125 56.890625 51.90625 \nQ 56.890625 45.015625 53.6875 40.46875 \nQ 50.484375 35.9375 44.390625 34.1875 \nz\nM 19.671875 64.796875 \nL 19.671875 38.921875 \nL 32.078125 38.921875 \nQ 39.203125 38.921875 42.84375 42.21875 \nQ 46.484375 45.515625 46.484375 51.90625 \nQ 46.484375 58.296875 42.84375 61.546875 \nQ 39.203125 64.796875 32.078125 64.796875 \nz\n\" id=\"DejaVuSans-82\"/>\n     <path d=\"M 30.609375 48.390625 \nQ 23.390625 48.390625 19.1875 42.75 \nQ 14.984375 37.109375 14.984375 27.296875 \nQ 14.984375 17.484375 19.15625 11.84375 \nQ 23.34375 6.203125 30.609375 6.203125 \nQ 37.796875 6.203125 41.984375 11.859375 \nQ 46.1875 17.53125 46.1875 27.296875 \nQ 46.1875 37.015625 41.984375 42.703125 \nQ 37.796875 48.390625 30.609375 48.390625 \nz\nM 30.609375 56 \nQ 42.328125 56 49.015625 48.375 \nQ 55.71875 40.765625 55.71875 27.296875 \nQ 55.71875 13.875 49.015625 6.21875 \nQ 42.328125 -1.421875 30.609375 -1.421875 \nQ 18.84375 -1.421875 12.171875 6.21875 \nQ 5.515625 13.875 5.515625 27.296875 \nQ 5.515625 40.765625 12.171875 48.375 \nQ 18.84375 56 30.609375 56 \nz\n\" id=\"DejaVuSans-111\"/>\n     <path d=\"M 45.40625 46.390625 \nL 45.40625 75.984375 \nL 54.390625 75.984375 \nL 54.390625 0 \nL 45.40625 0 \nL 45.40625 8.203125 \nQ 42.578125 3.328125 38.25 0.953125 \nQ 33.9375 -1.421875 27.875 -1.421875 \nQ 17.96875 -1.421875 11.734375 6.484375 \nQ 5.515625 14.40625 5.515625 27.296875 \nQ 5.515625 40.1875 11.734375 48.09375 \nQ 17.96875 56 27.875 56 \nQ 33.9375 56 38.25 53.625 \nQ 42.578125 51.265625 45.40625 46.390625 \nz\nM 14.796875 27.296875 \nQ 14.796875 17.390625 18.875 11.75 \nQ 22.953125 6.109375 30.078125 6.109375 \nQ 37.203125 6.109375 41.296875 11.75 \nQ 45.40625 17.390625 45.40625 27.296875 \nQ 45.40625 37.203125 41.296875 42.84375 \nQ 37.203125 48.484375 30.078125 48.484375 \nQ 22.953125 48.484375 18.875 42.84375 \nQ 14.796875 37.203125 14.796875 27.296875 \nz\n\" id=\"DejaVuSans-100\"/>\n    </defs>\n    <g transform=\"translate(267.851591 16.318125)scale(0.12 -0.12)\">\n     <use xlink:href=\"#DejaVuSans-82\"/>\n     <use x=\"69.419922\" xlink:href=\"#DejaVuSans-101\"/>\n     <use x=\"130.943359\" xlink:href=\"#DejaVuSans-111\"/>\n     <use x=\"192.125\" xlink:href=\"#DejaVuSans-114\"/>\n     <use x=\"233.222656\" xlink:href=\"#DejaVuSans-100\"/>\n     <use x=\"296.699219\" xlink:href=\"#DejaVuSans-101\"/>\n     <use x=\"358.222656\" xlink:href=\"#DejaVuSans-114\"/>\n     <use x=\"399.304688\" xlink:href=\"#DejaVuSans-101\"/>\n     <use x=\"460.828125\" xlink:href=\"#DejaVuSans-100\"/>\n    </g>\n   </g>\n  </g>\n </g>\n <defs>\n  <clipPath id=\"pfceead08fa\">\n   <rect height=\"76.090909\" width=\"152.181818\" x=\"40.603125\" y=\"22.318125\"/>\n  </clipPath>\n  <clipPath id=\"pba4bc7ce73\">\n   <rect height=\"76.090909\" width=\"152.181818\" x=\"223.221307\" y=\"22.318125\"/>\n  </clipPath>\n </defs>\n</svg>\n",
      "image/png": "[encoded data removed]"
     },
     "metadata": {
      "needs_background": "light"
     }
    },
    {
     "output_type": "stream",
     "name": "stdout",
     "text": [
      "\nModel file to add M2 RBM from FEM and from the Positioner saved as add_M2_Pos_FEM.yaml \n"
     ]
    }
   ],
   "source": [
    "\n",
    "# Flag to perform M2 RBM reordering (just the first 42 entries are reordered)\n",
    "reorder_M2RBM = True\n",
    "\n",
    "# Matrix to summ the inputs\n",
    "ssD = np.hstack((np.eye(42),np.eye(42)))\n",
    "if reorder_M2RBM:\n",
    "    QTxyz = np.kron(np.eye(7), np.hstack((np.eye(3), np.zeros((3,3)))))\n",
    "    QRxyz = np.kron(np.eye(7), np.hstack((np.zeros((3,3)), np.eye(3))))    \n",
    "    ssD = np.hstack((np.vstack((QTxyz,QRxyz)),np.eye(42)))\n",
    "    \n",
    "plt.subplot(1,2,1)\n",
    "plt.imshow(np.hstack((np.eye(42),np.eye(42))))\n",
    "plt.ylabel('Outputs'), plt.xlabel('Intputs'), plt.title('Direct summ')\n",
    "plt.subplot(1,2,2)\n",
    "plt.imshow(ssD), plt.xlabel('Intputs'), plt.title('Reordered')\n",
    "plt.show()\n",
    "\n",
    "add_M2_Pos_FEM_dt = {'System' :\n",
    "               {'sampling time': gmt_Ts.tolist(), #second ,\n",
    "                'parameters': {'A': np.zeros((1, 1)).tolist(),\n",
    "                               'B': np.zeros((1, 84)).tolist(),\n",
    "                               'C': np.zeros((42, 1)).tolist(),\n",
    "                               'D': ssD.tolist()}\n",
    "               }}\n",
    "add_M2_Pos_FEM_file = 'add_M2_Pos_FEM.yaml'\n",
    "\n",
    "if True:\n",
    "    # Save SS model file to add M2 RBM from FEM and from the Positioner\n",
    "    with open(add_M2_Pos_FEM_file,'w') as f:\n",
    "        y.dump(add_M2_Pos_FEM_dt,f)   \n",
    "    print('\\nModel file to add M2 RBM from FEM and from the Positioner saved as %s ' %add_M2_Pos_FEM_file)"
   ]
  },
  {
   "cell_type": "markdown",
   "metadata": {},
   "source": [
    "### State-space model to add the AcO BM corrections into the SA forces\n",
    "\n",
    "Unnecessary if driver `M1SA_F_Control.so` is available."
   ]
  },
  {
   "cell_type": "code",
   "execution_count": 13,
   "metadata": {},
   "outputs": [],
   "source": [
    "# filepath = '/Users/rromano/Workspace/GMTDatafiles/20200319 Rodrigo k6rot 100000 c/'\n",
    "# filename = os.path.join(filepath,'m1BM2F.mat')\n",
    "# m1BM2F = spio.loadmat(filename)['m1BM2F']\n",
    "\n",
    "# n_u1, n_u2 = m1BM2F.shape[0], m1BM2F.shape[1]\n",
    "\n",
    "# add_AcO_F_dt = {'System' :\n",
    "#                {'sampling time': gmt_Ts.tolist(), #second ,\n",
    "#                 'parameters': {'A': np.zeros((1, 1)).tolist(),\n",
    "#                                'B': np.zeros((1, n_u1+n_u2)).tolist(),\n",
    "#                                'C': np.zeros((n_u1, 1)).tolist(),\n",
    "#                                'D': np.hstack((np.eye(n_u1),m1BM2F)).tolist()}\n",
    "#                }}\n",
    "# add_AcO_F_file = 'add_AcO_F.pickle'\n",
    "\n",
    "# if False:\n",
    "#     # Save SS model file to add the AcO BM corrections into the SA forces\n",
    "#     with open(add_AcO_F_file,'wb') as f:\n",
    "#         pickle.dump(add_AcO_F_dt,f)   \n",
    "#     print('Model file to add the AcO BM corrections into the SA forces saved as %s ' %add_AcO_F_file)\n"
   ]
  },
  {
   "source": [
    "### M2 offload "
   ],
   "cell_type": "markdown",
   "metadata": {}
  },
  {
   "cell_type": "code",
   "execution_count": 14,
   "metadata": {},
   "outputs": [
    {
     "output_type": "stream",
     "name": "stdout",
     "text": [
      "G_off(z): [0.03045903 0.        ] [ 1.         -0.96954097] \n Ts: 0.005\nM2 offload averaging filter file saved as m2offloadAvgTF.yaml \n"
     ]
    }
   ],
   "source": [
    "# Averaging filter corner frequency [rad/s]\n",
    "wc = 2*np.pi\n",
    "# CT TF\n",
    "ctM2offAvgTF = signal.TransferFunction([1], [1/wc, 1])\n",
    "M2offAvgTF = signal.cont2discrete((ctM2offAvgTF.num,ctM2offAvgTF.den), dt=5.0e-3, method='backward_diff')\n",
    "print('G_off(z):',M2offAvgTF[0][0],M2offAvgTF[1],'\\n Ts:',M2offAvgTF[2])\n",
    "\n",
    "M2offAvgTF_dt = {'System' :{\n",
    "    'sampling time': M2offAvgTF[2], \n",
    "    'parameters': { 'num': M2offAvgTF[0][0].tolist(),\n",
    "                    'denom': M2offAvgTF[1][:].tolist()}\n",
    "               }}\n",
    "\n",
    "filename = 'm2offloadAvgTF.yaml'\n",
    "if True:\n",
    "    # Save M2 Positioner (ad hoc) dynamic model yaml file\n",
    "    with open(filename,'w') as f:\n",
    "        y.dump(M2offAvgTF_dt, f)\n",
    "    print('M2 offload averaging filter file saved as %s ' %filename)"
   ]
  },
  {
   "cell_type": "code",
   "execution_count": 15,
   "metadata": {},
   "outputs": [
    {
     "output_type": "display_data",
     "data": {
      "text/plain": "<Figure size 432x288 with 1 Axes>",
      "image/svg+xml": "<?xml version=\"1.0\" encoding=\"utf-8\" standalone=\"no\"?>\n<!DOCTYPE svg PUBLIC \"-//W3C//DTD SVG 1.1//EN\"\n  \"http://www.w3.org/Graphics/SVG/1.1/DTD/svg11.dtd\">\n<!-- Created with matplotlib (https://matplotlib.org/) -->\n<svg height=\"277.314375pt\" version=\"1.1\" viewBox=\"0 0 324.045 277.314375\" width=\"324.045pt\" xmlns=\"http://www.w3.org/2000/svg\" xmlns:xlink=\"http://www.w3.org/1999/xlink\">\n <defs>\n  <style type=\"text/css\">\n*{stroke-linecap:butt;stroke-linejoin:round;}\n  </style>\n </defs>\n <g id=\"figure_1\">\n  <g id=\"patch_1\">\n   <path d=\"M 0 277.314375 \nL 324.045 277.314375 \nL 324.045 0 \nL 0 0 \nz\n\" style=\"fill:none;\"/>\n  </g>\n  <g id=\"axes_1\">\n   <g id=\"patch_2\">\n    <path d=\"M 26.925 239.758125 \nL 316.845 239.758125 \nL 316.845 22.318125 \nL 26.925 22.318125 \nz\n\" style=\"fill:#ffffff;\"/>\n   </g>\n   <g clip-path=\"url(#pdf7bfd24a3)\">\n    <image height=\"218\" id=\"image52ca12ad2e\" transform=\"scale(1 -1)translate(0 -218)\" width=\"290\" x=\"26.925\" xlink:href=\"data:image/png;base64,\niVBORw0KGgoAAAANSUhEUgAAASIAAADaCAYAAAACCE92AAAABHNCSVQICAgIfAhkiAAABARJREFUeJzt3c1tU1EYRdFnRBWMKYAikGiAZumCKqAKlAyB4OC/2Pved9caZhTFZuvTeSY5fD58fdqAN/Htx/d/vvblw6fgO5nLu/obABAiICdEQE6IgNz7+huAWRmmr3Ps5+YiAnJCBOSECMgJEZAzVsMZDNPXOffn5iICckIE5IQIyAkRkBMiIOepGbzgCdnbOffn5iICckIE5IQIyAkRkDNWszTD9BhcREBOiICcEAE5IQJyxmqWcGyU3jbD9ChcREBOiICcEAE5IQJyxmp2x6el5+MiAnJCBOSECMgJEZAzVjM1w/QYbv3kuosIyAkRkBMiICdEQE6IgJynZkzDE7Ix3ON1cBEBOSECckIE5IQIyBmrGZJhelz3eB1cREBOiICcEAE5IQJyxmpyhmlcREBOiICcEAE5IQJyxmoe5tZfsM5+uYiAnBABOSECckIE5IzV3IVPS3MJFxGQEyIgJ0RAToiAnLGamxmm9+tRr62LCMgJEZATIiAnREBOiICcp2ZcxBOy/SpfWxcRkBMiICdEQE6IgJyxmlcZptdSvrYuIiAnREBOiICcEAE5YzX+Ais5FxGQEyIgJ0RAToiAnLF6MT4tzYhcREBOiICcEAE5IQJyxuodM0wzCxcRkBMiICdEQE6IgJwQATlPzXbCEzIuMdr7xUUE5IQIyAkRkBMiIGesntBoQyNjm+H94iICckIE5IQIyAkRkDNWD26GoZGxzfB+cREBOSECckIE5IQIyBmrB3FslN62OYZGuJWLCMgJEZATIiAnREDOWB3waWn4m4sIyAkRkBMiICdEQE6IgJynZnfmCRmc5iICckIE5IQIyAkRkDNWvyHDNKWZf6eViwjICRGQEyIgJ0RAzlh9JcM0pb29/1xEQE6IgJwQATkhAnLG6hNm/rQq+7W395+LCMgJEZATIiAnREDOWP2HvX1aFWbhIgJyQgTkhAjICRGQEyIgt+xTM0/IYBwuIiAnREBOiICcEAG5JcZqwzSMzUUE5IQIyAkRkBMiILe7sdowzd6s8J52EQE5IQJyQgTkhAjITT1WrzDisZZV39MuIiAnREBOiICcEAG5KcbqYwPetq0x4rGWVd/TLiIgJ0RAToiAnBABueHG6lU/WQorcxEBOSECckIE5IQIyAkRkEufmnlCBmybiwgYgBABOSECckIE5B42Vhumgde4iICcEAE5IQJyQgTk7jJWG6bhNP9OfnMRATkhAnJCBOSECMjdPFYb3OD//KXi01xEQE6IgJwQATkhAnJnj9UGN7iOfyOnuYiAnBABOSECckIE5IQIyB19aua/bQCP5CICckIE5IQIyAkRkDv8+vnx6eUXDdPAI7mIgJwQATkhAnJCBOSeAYvwr5kaYl61AAAAAElFTkSuQmCC\" y=\"-21.758125\"/>\n   </g>\n   <g id=\"matplotlib.axis_1\">\n    <g id=\"xtick_1\">\n     <g id=\"line2d_1\">\n      <defs>\n       <path d=\"M 0 0 \nL 0 3.5 \n\" id=\"m050a31736e\" style=\"stroke:#000000;stroke-width:0.8;\"/>\n      </defs>\n      <g>\n       <use style=\"stroke:#000000;stroke-width:0.8;\" x=\"29.513571\" xlink:href=\"#m050a31736e\" y=\"239.758125\"/>\n      </g>\n     </g>\n     <g id=\"text_1\">\n      <!-- 0 -->\n      <defs>\n       <path d=\"M 31.78125 66.40625 \nQ 24.171875 66.40625 20.328125 58.90625 \nQ 16.5 51.421875 16.5 36.375 \nQ 16.5 21.390625 20.328125 13.890625 \nQ 24.171875 6.390625 31.78125 6.390625 \nQ 39.453125 6.390625 43.28125 13.890625 \nQ 47.125 21.390625 47.125 36.375 \nQ 47.125 51.421875 43.28125 58.90625 \nQ 39.453125 66.40625 31.78125 66.40625 \nz\nM 31.78125 74.21875 \nQ 44.046875 74.21875 50.515625 64.515625 \nQ 56.984375 54.828125 56.984375 36.375 \nQ 56.984375 17.96875 50.515625 8.265625 \nQ 44.046875 -1.421875 31.78125 -1.421875 \nQ 19.53125 -1.421875 13.0625 8.265625 \nQ 6.59375 17.96875 6.59375 36.375 \nQ 6.59375 54.828125 13.0625 64.515625 \nQ 19.53125 74.21875 31.78125 74.21875 \nz\n\" id=\"DejaVuSans-48\"/>\n      </defs>\n      <g transform=\"translate(26.332321 254.356562)scale(0.1 -0.1)\">\n       <use xlink:href=\"#DejaVuSans-48\"/>\n      </g>\n     </g>\n    </g>\n    <g id=\"xtick_2\">\n     <g id=\"line2d_2\">\n      <g>\n       <use style=\"stroke:#000000;stroke-width:0.8;\" x=\"81.285\" xlink:href=\"#m050a31736e\" y=\"239.758125\"/>\n      </g>\n     </g>\n     <g id=\"text_2\">\n      <!-- 10 -->\n      <defs>\n       <path d=\"M 12.40625 8.296875 \nL 28.515625 8.296875 \nL 28.515625 63.921875 \nL 10.984375 60.40625 \nL 10.984375 69.390625 \nL 28.421875 72.90625 \nL 38.28125 72.90625 \nL 38.28125 8.296875 \nL 54.390625 8.296875 \nL 54.390625 0 \nL 12.40625 0 \nz\n\" id=\"DejaVuSans-49\"/>\n      </defs>\n      <g transform=\"translate(74.9225 254.356562)scale(0.1 -0.1)\">\n       <use xlink:href=\"#DejaVuSans-49\"/>\n       <use x=\"63.623047\" xlink:href=\"#DejaVuSans-48\"/>\n      </g>\n     </g>\n    </g>\n    <g id=\"xtick_3\">\n     <g id=\"line2d_3\">\n      <g>\n       <use style=\"stroke:#000000;stroke-width:0.8;\" x=\"133.056429\" xlink:href=\"#m050a31736e\" y=\"239.758125\"/>\n      </g>\n     </g>\n     <g id=\"text_3\">\n      <!-- 20 -->\n      <defs>\n       <path d=\"M 19.1875 8.296875 \nL 53.609375 8.296875 \nL 53.609375 0 \nL 7.328125 0 \nL 7.328125 8.296875 \nQ 12.9375 14.109375 22.625 23.890625 \nQ 32.328125 33.6875 34.8125 36.53125 \nQ 39.546875 41.84375 41.421875 45.53125 \nQ 43.3125 49.21875 43.3125 52.78125 \nQ 43.3125 58.59375 39.234375 62.25 \nQ 35.15625 65.921875 28.609375 65.921875 \nQ 23.96875 65.921875 18.8125 64.3125 \nQ 13.671875 62.703125 7.8125 59.421875 \nL 7.8125 69.390625 \nQ 13.765625 71.78125 18.9375 73 \nQ 24.125 74.21875 28.421875 74.21875 \nQ 39.75 74.21875 46.484375 68.546875 \nQ 53.21875 62.890625 53.21875 53.421875 \nQ 53.21875 48.921875 51.53125 44.890625 \nQ 49.859375 40.875 45.40625 35.40625 \nQ 44.1875 33.984375 37.640625 27.21875 \nQ 31.109375 20.453125 19.1875 8.296875 \nz\n\" id=\"DejaVuSans-50\"/>\n      </defs>\n      <g transform=\"translate(126.693929 254.356562)scale(0.1 -0.1)\">\n       <use xlink:href=\"#DejaVuSans-50\"/>\n       <use x=\"63.623047\" xlink:href=\"#DejaVuSans-48\"/>\n      </g>\n     </g>\n    </g>\n    <g id=\"xtick_4\">\n     <g id=\"line2d_4\">\n      <g>\n       <use style=\"stroke:#000000;stroke-width:0.8;\" x=\"184.827857\" xlink:href=\"#m050a31736e\" y=\"239.758125\"/>\n      </g>\n     </g>\n     <g id=\"text_4\">\n      <!-- 30 -->\n      <defs>\n       <path d=\"M 40.578125 39.3125 \nQ 47.65625 37.796875 51.625 33 \nQ 55.609375 28.21875 55.609375 21.1875 \nQ 55.609375 10.40625 48.1875 4.484375 \nQ 40.765625 -1.421875 27.09375 -1.421875 \nQ 22.515625 -1.421875 17.65625 -0.515625 \nQ 12.796875 0.390625 7.625 2.203125 \nL 7.625 11.71875 \nQ 11.71875 9.328125 16.59375 8.109375 \nQ 21.484375 6.890625 26.8125 6.890625 \nQ 36.078125 6.890625 40.9375 10.546875 \nQ 45.796875 14.203125 45.796875 21.1875 \nQ 45.796875 27.640625 41.28125 31.265625 \nQ 36.765625 34.90625 28.71875 34.90625 \nL 20.21875 34.90625 \nL 20.21875 43.015625 \nL 29.109375 43.015625 \nQ 36.375 43.015625 40.234375 45.921875 \nQ 44.09375 48.828125 44.09375 54.296875 \nQ 44.09375 59.90625 40.109375 62.90625 \nQ 36.140625 65.921875 28.71875 65.921875 \nQ 24.65625 65.921875 20.015625 65.03125 \nQ 15.375 64.15625 9.8125 62.3125 \nL 9.8125 71.09375 \nQ 15.4375 72.65625 20.34375 73.4375 \nQ 25.25 74.21875 29.59375 74.21875 \nQ 40.828125 74.21875 47.359375 69.109375 \nQ 53.90625 64.015625 53.90625 55.328125 \nQ 53.90625 49.265625 50.4375 45.09375 \nQ 46.96875 40.921875 40.578125 39.3125 \nz\n\" id=\"DejaVuSans-51\"/>\n      </defs>\n      <g transform=\"translate(178.465357 254.356562)scale(0.1 -0.1)\">\n       <use xlink:href=\"#DejaVuSans-51\"/>\n       <use x=\"63.623047\" xlink:href=\"#DejaVuSans-48\"/>\n      </g>\n     </g>\n    </g>\n    <g id=\"xtick_5\">\n     <g id=\"line2d_5\">\n      <g>\n       <use style=\"stroke:#000000;stroke-width:0.8;\" x=\"236.599286\" xlink:href=\"#m050a31736e\" y=\"239.758125\"/>\n      </g>\n     </g>\n     <g id=\"text_5\">\n      <!-- 40 -->\n      <defs>\n       <path d=\"M 37.796875 64.3125 \nL 12.890625 25.390625 \nL 37.796875 25.390625 \nz\nM 35.203125 72.90625 \nL 47.609375 72.90625 \nL 47.609375 25.390625 \nL 58.015625 25.390625 \nL 58.015625 17.1875 \nL 47.609375 17.1875 \nL 47.609375 0 \nL 37.796875 0 \nL 37.796875 17.1875 \nL 4.890625 17.1875 \nL 4.890625 26.703125 \nz\n\" id=\"DejaVuSans-52\"/>\n      </defs>\n      <g transform=\"translate(230.236786 254.356562)scale(0.1 -0.1)\">\n       <use xlink:href=\"#DejaVuSans-52\"/>\n       <use x=\"63.623047\" xlink:href=\"#DejaVuSans-48\"/>\n      </g>\n     </g>\n    </g>\n    <g id=\"xtick_6\">\n     <g id=\"line2d_6\">\n      <g>\n       <use style=\"stroke:#000000;stroke-width:0.8;\" x=\"288.370714\" xlink:href=\"#m050a31736e\" y=\"239.758125\"/>\n      </g>\n     </g>\n     <g id=\"text_6\">\n      <!-- 50 -->\n      <defs>\n       <path d=\"M 10.796875 72.90625 \nL 49.515625 72.90625 \nL 49.515625 64.59375 \nL 19.828125 64.59375 \nL 19.828125 46.734375 \nQ 21.96875 47.46875 24.109375 47.828125 \nQ 26.265625 48.1875 28.421875 48.1875 \nQ 40.625 48.1875 47.75 41.5 \nQ 54.890625 34.8125 54.890625 23.390625 \nQ 54.890625 11.625 47.5625 5.09375 \nQ 40.234375 -1.421875 26.90625 -1.421875 \nQ 22.3125 -1.421875 17.546875 -0.640625 \nQ 12.796875 0.140625 7.71875 1.703125 \nL 7.71875 11.625 \nQ 12.109375 9.234375 16.796875 8.0625 \nQ 21.484375 6.890625 26.703125 6.890625 \nQ 35.15625 6.890625 40.078125 11.328125 \nQ 45.015625 15.765625 45.015625 23.390625 \nQ 45.015625 31 40.078125 35.4375 \nQ 35.15625 39.890625 26.703125 39.890625 \nQ 22.75 39.890625 18.8125 39.015625 \nQ 14.890625 38.140625 10.796875 36.28125 \nz\n\" id=\"DejaVuSans-53\"/>\n      </defs>\n      <g transform=\"translate(282.008214 254.356562)scale(0.1 -0.1)\">\n       <use xlink:href=\"#DejaVuSans-53\"/>\n       <use x=\"63.623047\" xlink:href=\"#DejaVuSans-48\"/>\n      </g>\n     </g>\n    </g>\n    <g id=\"text_7\">\n     <!-- Intputs -->\n     <defs>\n      <path d=\"M 9.8125 72.90625 \nL 19.671875 72.90625 \nL 19.671875 0 \nL 9.8125 0 \nz\n\" id=\"DejaVuSans-73\"/>\n      <path d=\"M 54.890625 33.015625 \nL 54.890625 0 \nL 45.90625 0 \nL 45.90625 32.71875 \nQ 45.90625 40.484375 42.875 44.328125 \nQ 39.84375 48.1875 33.796875 48.1875 \nQ 26.515625 48.1875 22.3125 43.546875 \nQ 18.109375 38.921875 18.109375 30.90625 \nL 18.109375 0 \nL 9.078125 0 \nL 9.078125 54.6875 \nL 18.109375 54.6875 \nL 18.109375 46.1875 \nQ 21.34375 51.125 25.703125 53.5625 \nQ 30.078125 56 35.796875 56 \nQ 45.21875 56 50.046875 50.171875 \nQ 54.890625 44.34375 54.890625 33.015625 \nz\n\" id=\"DejaVuSans-110\"/>\n      <path d=\"M 18.3125 70.21875 \nL 18.3125 54.6875 \nL 36.8125 54.6875 \nL 36.8125 47.703125 \nL 18.3125 47.703125 \nL 18.3125 18.015625 \nQ 18.3125 11.328125 20.140625 9.421875 \nQ 21.96875 7.515625 27.59375 7.515625 \nL 36.8125 7.515625 \nL 36.8125 0 \nL 27.59375 0 \nQ 17.1875 0 13.234375 3.875 \nQ 9.28125 7.765625 9.28125 18.015625 \nL 9.28125 47.703125 \nL 2.6875 47.703125 \nL 2.6875 54.6875 \nL 9.28125 54.6875 \nL 9.28125 70.21875 \nz\n\" id=\"DejaVuSans-116\"/>\n      <path d=\"M 18.109375 8.203125 \nL 18.109375 -20.796875 \nL 9.078125 -20.796875 \nL 9.078125 54.6875 \nL 18.109375 54.6875 \nL 18.109375 46.390625 \nQ 20.953125 51.265625 25.265625 53.625 \nQ 29.59375 56 35.59375 56 \nQ 45.5625 56 51.78125 48.09375 \nQ 58.015625 40.1875 58.015625 27.296875 \nQ 58.015625 14.40625 51.78125 6.484375 \nQ 45.5625 -1.421875 35.59375 -1.421875 \nQ 29.59375 -1.421875 25.265625 0.953125 \nQ 20.953125 3.328125 18.109375 8.203125 \nz\nM 48.6875 27.296875 \nQ 48.6875 37.203125 44.609375 42.84375 \nQ 40.53125 48.484375 33.40625 48.484375 \nQ 26.265625 48.484375 22.1875 42.84375 \nQ 18.109375 37.203125 18.109375 27.296875 \nQ 18.109375 17.390625 22.1875 11.75 \nQ 26.265625 6.109375 33.40625 6.109375 \nQ 40.53125 6.109375 44.609375 11.75 \nQ 48.6875 17.390625 48.6875 27.296875 \nz\n\" id=\"DejaVuSans-112\"/>\n      <path d=\"M 8.5 21.578125 \nL 8.5 54.6875 \nL 17.484375 54.6875 \nL 17.484375 21.921875 \nQ 17.484375 14.15625 20.5 10.265625 \nQ 23.53125 6.390625 29.59375 6.390625 \nQ 36.859375 6.390625 41.078125 11.03125 \nQ 45.3125 15.671875 45.3125 23.6875 \nL 45.3125 54.6875 \nL 54.296875 54.6875 \nL 54.296875 0 \nL 45.3125 0 \nL 45.3125 8.40625 \nQ 42.046875 3.421875 37.71875 1 \nQ 33.40625 -1.421875 27.6875 -1.421875 \nQ 18.265625 -1.421875 13.375 4.4375 \nQ 8.5 10.296875 8.5 21.578125 \nz\nM 31.109375 56 \nz\n\" id=\"DejaVuSans-117\"/>\n      <path d=\"M 44.28125 53.078125 \nL 44.28125 44.578125 \nQ 40.484375 46.53125 36.375 47.5 \nQ 32.28125 48.484375 27.875 48.484375 \nQ 21.1875 48.484375 17.84375 46.4375 \nQ 14.5 44.390625 14.5 40.28125 \nQ 14.5 37.15625 16.890625 35.375 \nQ 19.28125 33.59375 26.515625 31.984375 \nL 29.59375 31.296875 \nQ 39.15625 29.25 43.1875 25.515625 \nQ 47.21875 21.78125 47.21875 15.09375 \nQ 47.21875 7.46875 41.1875 3.015625 \nQ 35.15625 -1.421875 24.609375 -1.421875 \nQ 20.21875 -1.421875 15.453125 -0.5625 \nQ 10.6875 0.296875 5.421875 2 \nL 5.421875 11.28125 \nQ 10.40625 8.6875 15.234375 7.390625 \nQ 20.0625 6.109375 24.8125 6.109375 \nQ 31.15625 6.109375 34.5625 8.28125 \nQ 37.984375 10.453125 37.984375 14.40625 \nQ 37.984375 18.0625 35.515625 20.015625 \nQ 33.0625 21.96875 24.703125 23.78125 \nL 21.578125 24.515625 \nQ 13.234375 26.265625 9.515625 29.90625 \nQ 5.8125 33.546875 5.8125 39.890625 \nQ 5.8125 47.609375 11.28125 51.796875 \nQ 16.75 56 26.8125 56 \nQ 31.78125 56 36.171875 55.265625 \nQ 40.578125 54.546875 44.28125 53.078125 \nz\n\" id=\"DejaVuSans-115\"/>\n     </defs>\n     <g transform=\"translate(154.373281 268.034687)scale(0.1 -0.1)\">\n      <use xlink:href=\"#DejaVuSans-73\"/>\n      <use x=\"29.492188\" xlink:href=\"#DejaVuSans-110\"/>\n      <use x=\"92.871094\" xlink:href=\"#DejaVuSans-116\"/>\n      <use x=\"132.080078\" xlink:href=\"#DejaVuSans-112\"/>\n      <use x=\"195.556641\" xlink:href=\"#DejaVuSans-117\"/>\n      <use x=\"258.935547\" xlink:href=\"#DejaVuSans-116\"/>\n      <use x=\"298.144531\" xlink:href=\"#DejaVuSans-115\"/>\n     </g>\n    </g>\n   </g>\n   <g id=\"matplotlib.axis_2\">\n    <g id=\"ytick_1\">\n     <g id=\"line2d_7\">\n      <defs>\n       <path d=\"M 0 0 \nL -3.5 0 \n\" id=\"mb7ba5e289a\" style=\"stroke:#000000;stroke-width:0.8;\"/>\n      </defs>\n      <g>\n       <use style=\"stroke:#000000;stroke-width:0.8;\" x=\"26.925\" xlink:href=\"#mb7ba5e289a\" y=\"24.906696\"/>\n      </g>\n     </g>\n     <g id=\"text_8\">\n      <!-- 0 -->\n      <g transform=\"translate(13.5625 28.705915)scale(0.1 -0.1)\">\n       <use xlink:href=\"#DejaVuSans-48\"/>\n      </g>\n     </g>\n    </g>\n    <g id=\"ytick_2\">\n     <g id=\"line2d_8\">\n      <g>\n       <use style=\"stroke:#000000;stroke-width:0.8;\" x=\"26.925\" xlink:href=\"#mb7ba5e289a\" y=\"50.792411\"/>\n      </g>\n     </g>\n     <g id=\"text_9\">\n      <!-- 5 -->\n      <g transform=\"translate(13.5625 54.591629)scale(0.1 -0.1)\">\n       <use xlink:href=\"#DejaVuSans-53\"/>\n      </g>\n     </g>\n    </g>\n    <g id=\"ytick_3\">\n     <g id=\"line2d_9\">\n      <g>\n       <use style=\"stroke:#000000;stroke-width:0.8;\" x=\"26.925\" xlink:href=\"#mb7ba5e289a\" y=\"76.678125\"/>\n      </g>\n     </g>\n     <g id=\"text_10\">\n      <!-- 10 -->\n      <g transform=\"translate(7.2 80.477344)scale(0.1 -0.1)\">\n       <use xlink:href=\"#DejaVuSans-49\"/>\n       <use x=\"63.623047\" xlink:href=\"#DejaVuSans-48\"/>\n      </g>\n     </g>\n    </g>\n    <g id=\"ytick_4\">\n     <g id=\"line2d_10\">\n      <g>\n       <use style=\"stroke:#000000;stroke-width:0.8;\" x=\"26.925\" xlink:href=\"#mb7ba5e289a\" y=\"102.563839\"/>\n      </g>\n     </g>\n     <g id=\"text_11\">\n      <!-- 15 -->\n      <g transform=\"translate(7.2 106.363058)scale(0.1 -0.1)\">\n       <use xlink:href=\"#DejaVuSans-49\"/>\n       <use x=\"63.623047\" xlink:href=\"#DejaVuSans-53\"/>\n      </g>\n     </g>\n    </g>\n    <g id=\"ytick_5\">\n     <g id=\"line2d_11\">\n      <g>\n       <use style=\"stroke:#000000;stroke-width:0.8;\" x=\"26.925\" xlink:href=\"#mb7ba5e289a\" y=\"128.449554\"/>\n      </g>\n     </g>\n     <g id=\"text_12\">\n      <!-- 20 -->\n      <g transform=\"translate(7.2 132.248772)scale(0.1 -0.1)\">\n       <use xlink:href=\"#DejaVuSans-50\"/>\n       <use x=\"63.623047\" xlink:href=\"#DejaVuSans-48\"/>\n      </g>\n     </g>\n    </g>\n    <g id=\"ytick_6\">\n     <g id=\"line2d_12\">\n      <g>\n       <use style=\"stroke:#000000;stroke-width:0.8;\" x=\"26.925\" xlink:href=\"#mb7ba5e289a\" y=\"154.335268\"/>\n      </g>\n     </g>\n     <g id=\"text_13\">\n      <!-- 25 -->\n      <g transform=\"translate(7.2 158.134487)scale(0.1 -0.1)\">\n       <use xlink:href=\"#DejaVuSans-50\"/>\n       <use x=\"63.623047\" xlink:href=\"#DejaVuSans-53\"/>\n      </g>\n     </g>\n    </g>\n    <g id=\"ytick_7\">\n     <g id=\"line2d_13\">\n      <g>\n       <use style=\"stroke:#000000;stroke-width:0.8;\" x=\"26.925\" xlink:href=\"#mb7ba5e289a\" y=\"180.220982\"/>\n      </g>\n     </g>\n     <g id=\"text_14\">\n      <!-- 30 -->\n      <g transform=\"translate(7.2 184.020201)scale(0.1 -0.1)\">\n       <use xlink:href=\"#DejaVuSans-51\"/>\n       <use x=\"63.623047\" xlink:href=\"#DejaVuSans-48\"/>\n      </g>\n     </g>\n    </g>\n    <g id=\"ytick_8\">\n     <g id=\"line2d_14\">\n      <g>\n       <use style=\"stroke:#000000;stroke-width:0.8;\" x=\"26.925\" xlink:href=\"#mb7ba5e289a\" y=\"206.106696\"/>\n      </g>\n     </g>\n     <g id=\"text_15\">\n      <!-- 35 -->\n      <g transform=\"translate(7.2 209.905915)scale(0.1 -0.1)\">\n       <use xlink:href=\"#DejaVuSans-51\"/>\n       <use x=\"63.623047\" xlink:href=\"#DejaVuSans-53\"/>\n      </g>\n     </g>\n    </g>\n    <g id=\"ytick_9\">\n     <g id=\"line2d_15\">\n      <g>\n       <use style=\"stroke:#000000;stroke-width:0.8;\" x=\"26.925\" xlink:href=\"#mb7ba5e289a\" y=\"231.992411\"/>\n      </g>\n     </g>\n     <g id=\"text_16\">\n      <!-- 40 -->\n      <g transform=\"translate(7.2 235.791629)scale(0.1 -0.1)\">\n       <use xlink:href=\"#DejaVuSans-52\"/>\n       <use x=\"63.623047\" xlink:href=\"#DejaVuSans-48\"/>\n      </g>\n     </g>\n    </g>\n   </g>\n   <g id=\"patch_3\">\n    <path d=\"M 26.925 239.758125 \nL 26.925 22.318125 \n\" style=\"fill:none;stroke:#000000;stroke-linecap:square;stroke-linejoin:miter;stroke-width:0.8;\"/>\n   </g>\n   <g id=\"patch_4\">\n    <path d=\"M 316.845 239.758125 \nL 316.845 22.318125 \n\" style=\"fill:none;stroke:#000000;stroke-linecap:square;stroke-linejoin:miter;stroke-width:0.8;\"/>\n   </g>\n   <g id=\"patch_5\">\n    <path d=\"M 26.925 239.758125 \nL 316.845 239.758125 \n\" style=\"fill:none;stroke:#000000;stroke-linecap:square;stroke-linejoin:miter;stroke-width:0.8;\"/>\n   </g>\n   <g id=\"patch_6\">\n    <path d=\"M 26.925 22.318125 \nL 316.845 22.318125 \n\" style=\"fill:none;stroke:#000000;stroke-linecap:square;stroke-linejoin:miter;stroke-width:0.8;\"/>\n   </g>\n   <g id=\"text_17\">\n    <!-- M2RBM + M2 offload -->\n    <defs>\n     <path d=\"M 9.8125 72.90625 \nL 24.515625 72.90625 \nL 43.109375 23.296875 \nL 61.8125 72.90625 \nL 76.515625 72.90625 \nL 76.515625 0 \nL 66.890625 0 \nL 66.890625 64.015625 \nL 48.09375 14.015625 \nL 38.1875 14.015625 \nL 19.390625 64.015625 \nL 19.390625 0 \nL 9.8125 0 \nz\n\" id=\"DejaVuSans-77\"/>\n     <path d=\"M 44.390625 34.1875 \nQ 47.5625 33.109375 50.5625 29.59375 \nQ 53.5625 26.078125 56.59375 19.921875 \nL 66.609375 0 \nL 56 0 \nL 46.6875 18.703125 \nQ 43.0625 26.03125 39.671875 28.421875 \nQ 36.28125 30.8125 30.421875 30.8125 \nL 19.671875 30.8125 \nL 19.671875 0 \nL 9.8125 0 \nL 9.8125 72.90625 \nL 32.078125 72.90625 \nQ 44.578125 72.90625 50.734375 67.671875 \nQ 56.890625 62.453125 56.890625 51.90625 \nQ 56.890625 45.015625 53.6875 40.46875 \nQ 50.484375 35.9375 44.390625 34.1875 \nz\nM 19.671875 64.796875 \nL 19.671875 38.921875 \nL 32.078125 38.921875 \nQ 39.203125 38.921875 42.84375 42.21875 \nQ 46.484375 45.515625 46.484375 51.90625 \nQ 46.484375 58.296875 42.84375 61.546875 \nQ 39.203125 64.796875 32.078125 64.796875 \nz\n\" id=\"DejaVuSans-82\"/>\n     <path d=\"M 19.671875 34.8125 \nL 19.671875 8.109375 \nL 35.5 8.109375 \nQ 43.453125 8.109375 47.28125 11.40625 \nQ 51.125 14.703125 51.125 21.484375 \nQ 51.125 28.328125 47.28125 31.5625 \nQ 43.453125 34.8125 35.5 34.8125 \nz\nM 19.671875 64.796875 \nL 19.671875 42.828125 \nL 34.28125 42.828125 \nQ 41.5 42.828125 45.03125 45.53125 \nQ 48.578125 48.25 48.578125 53.8125 \nQ 48.578125 59.328125 45.03125 62.0625 \nQ 41.5 64.796875 34.28125 64.796875 \nz\nM 9.8125 72.90625 \nL 35.015625 72.90625 \nQ 46.296875 72.90625 52.390625 68.21875 \nQ 58.5 63.53125 58.5 54.890625 \nQ 58.5 48.1875 55.375 44.234375 \nQ 52.25 40.28125 46.1875 39.3125 \nQ 53.46875 37.75 57.5 32.78125 \nQ 61.53125 27.828125 61.53125 20.40625 \nQ 61.53125 10.640625 54.890625 5.3125 \nQ 48.25 0 35.984375 0 \nL 9.8125 0 \nz\n\" id=\"DejaVuSans-66\"/>\n     <path id=\"DejaVuSans-32\"/>\n     <path d=\"M 46 62.703125 \nL 46 35.5 \nL 73.1875 35.5 \nL 73.1875 27.203125 \nL 46 27.203125 \nL 46 0 \nL 37.796875 0 \nL 37.796875 27.203125 \nL 10.59375 27.203125 \nL 10.59375 35.5 \nL 37.796875 35.5 \nL 37.796875 62.703125 \nz\n\" id=\"DejaVuSans-43\"/>\n     <path d=\"M 30.609375 48.390625 \nQ 23.390625 48.390625 19.1875 42.75 \nQ 14.984375 37.109375 14.984375 27.296875 \nQ 14.984375 17.484375 19.15625 11.84375 \nQ 23.34375 6.203125 30.609375 6.203125 \nQ 37.796875 6.203125 41.984375 11.859375 \nQ 46.1875 17.53125 46.1875 27.296875 \nQ 46.1875 37.015625 41.984375 42.703125 \nQ 37.796875 48.390625 30.609375 48.390625 \nz\nM 30.609375 56 \nQ 42.328125 56 49.015625 48.375 \nQ 55.71875 40.765625 55.71875 27.296875 \nQ 55.71875 13.875 49.015625 6.21875 \nQ 42.328125 -1.421875 30.609375 -1.421875 \nQ 18.84375 -1.421875 12.171875 6.21875 \nQ 5.515625 13.875 5.515625 27.296875 \nQ 5.515625 40.765625 12.171875 48.375 \nQ 18.84375 56 30.609375 56 \nz\n\" id=\"DejaVuSans-111\"/>\n     <path d=\"M 37.109375 75.984375 \nL 37.109375 68.5 \nL 28.515625 68.5 \nQ 23.6875 68.5 21.796875 66.546875 \nQ 19.921875 64.59375 19.921875 59.515625 \nL 19.921875 54.6875 \nL 34.71875 54.6875 \nL 34.71875 47.703125 \nL 19.921875 47.703125 \nL 19.921875 0 \nL 10.890625 0 \nL 10.890625 47.703125 \nL 2.296875 47.703125 \nL 2.296875 54.6875 \nL 10.890625 54.6875 \nL 10.890625 58.5 \nQ 10.890625 67.625 15.140625 71.796875 \nQ 19.390625 75.984375 28.609375 75.984375 \nz\n\" id=\"DejaVuSans-102\"/>\n     <path d=\"M 9.421875 75.984375 \nL 18.40625 75.984375 \nL 18.40625 0 \nL 9.421875 0 \nz\n\" id=\"DejaVuSans-108\"/>\n     <path d=\"M 34.28125 27.484375 \nQ 23.390625 27.484375 19.1875 25 \nQ 14.984375 22.515625 14.984375 16.5 \nQ 14.984375 11.71875 18.140625 8.90625 \nQ 21.296875 6.109375 26.703125 6.109375 \nQ 34.1875 6.109375 38.703125 11.40625 \nQ 43.21875 16.703125 43.21875 25.484375 \nL 43.21875 27.484375 \nz\nM 52.203125 31.203125 \nL 52.203125 0 \nL 43.21875 0 \nL 43.21875 8.296875 \nQ 40.140625 3.328125 35.546875 0.953125 \nQ 30.953125 -1.421875 24.3125 -1.421875 \nQ 15.921875 -1.421875 10.953125 3.296875 \nQ 6 8.015625 6 15.921875 \nQ 6 25.140625 12.171875 29.828125 \nQ 18.359375 34.515625 30.609375 34.515625 \nL 43.21875 34.515625 \nL 43.21875 35.40625 \nQ 43.21875 41.609375 39.140625 45 \nQ 35.0625 48.390625 27.6875 48.390625 \nQ 23 48.390625 18.546875 47.265625 \nQ 14.109375 46.140625 10.015625 43.890625 \nL 10.015625 52.203125 \nQ 14.9375 54.109375 19.578125 55.046875 \nQ 24.21875 56 28.609375 56 \nQ 40.484375 56 46.34375 49.84375 \nQ 52.203125 43.703125 52.203125 31.203125 \nz\n\" id=\"DejaVuSans-97\"/>\n     <path d=\"M 45.40625 46.390625 \nL 45.40625 75.984375 \nL 54.390625 75.984375 \nL 54.390625 0 \nL 45.40625 0 \nL 45.40625 8.203125 \nQ 42.578125 3.328125 38.25 0.953125 \nQ 33.9375 -1.421875 27.875 -1.421875 \nQ 17.96875 -1.421875 11.734375 6.484375 \nQ 5.515625 14.40625 5.515625 27.296875 \nQ 5.515625 40.1875 11.734375 48.09375 \nQ 17.96875 56 27.875 56 \nQ 33.9375 56 38.25 53.625 \nQ 42.578125 51.265625 45.40625 46.390625 \nz\nM 14.796875 27.296875 \nQ 14.796875 17.390625 18.875 11.75 \nQ 22.953125 6.109375 30.078125 6.109375 \nQ 37.203125 6.109375 41.296875 11.75 \nQ 45.40625 17.390625 45.40625 27.296875 \nQ 45.40625 37.203125 41.296875 42.84375 \nQ 37.203125 48.484375 30.078125 48.484375 \nQ 22.953125 48.484375 18.875 42.84375 \nQ 14.796875 37.203125 14.796875 27.296875 \nz\n\" id=\"DejaVuSans-100\"/>\n    </defs>\n    <g transform=\"translate(108.965625 16.318125)scale(0.12 -0.12)\">\n     <use xlink:href=\"#DejaVuSans-77\"/>\n     <use x=\"86.279297\" xlink:href=\"#DejaVuSans-50\"/>\n     <use x=\"149.902344\" xlink:href=\"#DejaVuSans-82\"/>\n     <use x=\"219.384766\" xlink:href=\"#DejaVuSans-66\"/>\n     <use x=\"287.988281\" xlink:href=\"#DejaVuSans-77\"/>\n     <use x=\"374.267578\" xlink:href=\"#DejaVuSans-32\"/>\n     <use x=\"406.054688\" xlink:href=\"#DejaVuSans-43\"/>\n     <use x=\"489.84375\" xlink:href=\"#DejaVuSans-32\"/>\n     <use x=\"521.630859\" xlink:href=\"#DejaVuSans-77\"/>\n     <use x=\"607.910156\" xlink:href=\"#DejaVuSans-50\"/>\n     <use x=\"671.533203\" xlink:href=\"#DejaVuSans-32\"/>\n     <use x=\"703.320312\" xlink:href=\"#DejaVuSans-111\"/>\n     <use x=\"764.501953\" xlink:href=\"#DejaVuSans-102\"/>\n     <use x=\"799.707031\" xlink:href=\"#DejaVuSans-102\"/>\n     <use x=\"834.912109\" xlink:href=\"#DejaVuSans-108\"/>\n     <use x=\"862.695312\" xlink:href=\"#DejaVuSans-111\"/>\n     <use x=\"923.876953\" xlink:href=\"#DejaVuSans-97\"/>\n     <use x=\"985.15625\" xlink:href=\"#DejaVuSans-100\"/>\n    </g>\n   </g>\n  </g>\n </g>\n <defs>\n  <clipPath id=\"pdf7bfd24a3\">\n   <rect height=\"217.44\" width=\"289.92\" x=\"26.925\" y=\"22.318125\"/>\n  </clipPath>\n </defs>\n</svg>\n",
      "image/png": "[encoded data removed]"
     },
     "metadata": {
      "needs_background": "light"
     }
    },
    {
     "output_type": "stream",
     "name": "stdout",
     "text": [
      "\nModel file to add M2 offload commands saved as add_M2offload_cmd.yaml \n"
     ]
    }
   ],
   "source": [
    "# Matrix to summ the inputs\n",
    "K_14_to_42 = np.kron(np.eye(7), np.vstack((np.zeros((3,2)), np.eye(2), np.zeros((1,2)) )))\n",
    "ssD = np.hstack(( np.eye(42), K_14_to_42 ))\n",
    "    \n",
    "plt.imshow(ssD), plt.xlabel('Intputs'), plt.title('M2RBM + M2 offload')\n",
    "plt.show()\n",
    "\n",
    "add_M2offload_dt = {'System' :\n",
    "               {'sampling time': 1.0, #second ,\n",
    "                'parameters': {'A': np.zeros((1, 1)).tolist(),\n",
    "                               'B': np.zeros((1, 42+14)).tolist(),\n",
    "                               'C': np.zeros((42, 1)).tolist(),\n",
    "                               'D': ssD.tolist()}\n",
    "               }}\n",
    "filename = 'add_M2offload_cmd.yaml'\n",
    "\n",
    "if True:\n",
    "    # Save SS model file to add M2 offload commands\n",
    "    with open(filename,'w') as f:\n",
    "        y.dump(add_M2offload_dt,f)   \n",
    "    print('\\nModel file to add M2 offload commands saved as %s ' %filename)"
   ]
  },
  {
   "source": [
    "### AcO smoothing filter"
   ],
   "cell_type": "markdown",
   "metadata": {}
  },
  {
   "cell_type": "code",
   "execution_count": 16,
   "metadata": {},
   "outputs": [
    {
     "output_type": "stream",
     "name": "stdout",
     "text": [
      "G(z): [0.04013454 0.03254817] [ 1.         -1.46080538  0.53348809] \n Ts: 0.05\nSmoothing file saved as m1RBM_IS_f.yaml\nSmoothing file saved as m2RBM_IS_f.yaml\n"
     ]
    }
   ],
   "source": [
    "# 2nd order TF parameters\n",
    "wn = 2*np.pi\n",
    "zeta = 1.0\n",
    "Ts = 0.05\n",
    "# CT TF\n",
    "ctTF = signal.TransferFunction([wn**2], [1, 2*zeta*wn, wn**2])\n",
    "dtTF = signal.cont2discrete((ctTF.num,ctTF.den), dt=Ts, method='zoh')\n",
    "print('G(z):',dtTF[0][0][1:],dtTF[1],'\\n Ts:',dtTF[2])\n",
    "\n",
    "TF_dt = {'System' :{\n",
    "    'sampling time': dtTF[2], \n",
    "    'parameters': { 'num': dtTF[0][0][1:].tolist(),\n",
    "                    'denom': dtTF[1][:].tolist()}\n",
    "               }}\n",
    "\n",
    "# Save yaml files\n",
    "smoothing_yaml_file = 'mXRBM_IS_f.yaml'\n",
    "if True:\n",
    "    for k in range(2):\n",
    "        filename = 'm%d%s'%(k+1,smoothing_yaml_file[2:])\n",
    "        with open(filename,'w') as f:\n",
    "            y.dump(TF_dt, f)\n",
    "        print('Smoothing file saved as %s'%filename)    \n",
    "else:\n",
    "    t, x = signal.step(ctTF)\n",
    "    dt_sys = signal.dlti(TF_dt['System']['parameters']['num'],TF_dt['System']['parameters']['denom']\n",
    "        ,dt=TF_dt['System']['sampling time'])\n",
    "    td, yd = signal.dstep(dt_sys)\n",
    "    plt.plot(t, x, label='CT TF')\n",
    "    plt.plot(td, yd[0],'.--',label='DT Approx')\n",
    "    plt.xlim([0,1.5])\n",
    "    plt.xlabel('Time (s)'), plt.ylabel('Amplitude')\n",
    "    plt.title('Step response for Input Shaping')\n",
    "    plt.legend(), plt.grid()\n"
   ]
  },
  {
   "cell_type": "code",
   "execution_count": null,
   "metadata": {},
   "outputs": [],
   "source": []
  }
 ],
 "metadata": {
  "kernelspec": {
   "display_name": "Python 3",
   "language": "python",
   "name": "python3"
  },
  "language_info": {
   "codemirror_mode": {
    "name": "ipython",
    "version": 3
   },
   "file_extension": ".py",
   "mimetype": "text/x-python",
   "name": "python",
   "nbconvert_exporter": "python",
   "pygments_lexer": "ipython3",
   "version": "3.7.3-final"
  }
 },
 "nbformat": 4,
 "nbformat_minor": 4
}