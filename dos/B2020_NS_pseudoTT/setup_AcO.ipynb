{
 "cells": [
  {
   "cell_type": "markdown",
   "metadata": {},
   "source": [
    "# Notebook to setup the Active Optics algorithm\n",
    "#### Load required libraries"
   ]
  },
  {
   "cell_type": "code",
   "execution_count": 36,
   "metadata": {},
   "outputs": [],
   "source": [
    "import numpy as np\n",
    "import logging\n",
    "import pickle\n",
    "\n",
    "from scipy import sparse\n",
    "from scipy.linalg import block_diag\n",
    "import scipy.io as spio\n",
    "\n",
    "import os\n",
    "from os import path\n",
    "\n",
    "from pathlib import Path\n",
    "\n",
    "# from ruamel import yaml\n",
    "# from ruamel.yaml import YAML\n",
    "# y = YAML()\n",
    "# y.default_flow_style = None\n"
   ]
  },
  {
   "cell_type": "markdown",
   "metadata": {},
   "source": [
    "#### Load Active Optics Calibration Matrix"
   ]
  },
  {
   "cell_type": "code",
   "execution_count": 37,
   "metadata": {},
   "outputs": [],
   "source": [
    "# Folder of files with calibration matrices\n",
    "calibDataFolder = '/Users/rromano/Workspace/SIMCEO/calibration_dbs'\n",
    "# Number of bending modes\n",
    "n_bm = 27\n",
    "# Flag to include mount controllable modes\n",
    "include_mount = False\n"
   ]
  },
  {
   "cell_type": "code",
   "execution_count": 38,
   "metadata": {
    "tags": []
   },
   "outputs": [
    {
     "output_type": "stream",
     "name": "stdout",
     "text": "-&gt; 7360x271 interaction matrix was loaded successfully.\n"
    }
   ],
   "source": [
    "# Load calibrations data\n",
    "#dt = np.load(Path(calibDataFolder)/'calib_dt_SH0p5fluxTH_46BM.npz', allow_pickle=True)\n",
    "#dt = np.load(Path(calibDataFolder)/'calib_dt_GSH0p5fluxTH_46BM.npz', allow_pickle=True)\n",
    "dt = np.load(Path(calibDataFolder)/'calib_dt_GSH0p5fluxTH_46BM_LoFi.npz', allow_pickle=True)\n",
    "\n",
    "#M1-RBM\n",
    "Dm1 = block_diag(*[Dseg[:,:6] for Dseg in dt['calibdt'][()]['D'][:-1]])\n",
    "Dm1 = block_diag(Dm1,dt['calibdt'][()]['D'][-1][:,:5])\n",
    "#M2-RBM\n",
    "Dm2 = block_diag(*[Dseg[:,6:12] for Dseg in dt['calibdt'][()]['D'][:-1]])\n",
    "Dm2 = block_diag(Dm2,dt['calibdt'][()]['D'][-1][:,5:10])\n",
    "#M1BM\n",
    "Dbm = block_diag(*[Dseg[:,12:12+n_bm] for Dseg in dt['calibdt'][()]['D'][:-1]])\n",
    "Dbm = block_diag(Dbm,dt['calibdt'][()]['D'][-1][:,10:10+n_bm])\n",
    "\n",
    "# Compute SH-WFS consolidated interaction matrix (FEM compatible ordering)\n",
    "Dwfs = np.hstack((Dm1,Dm2,Dbm))\n",
    "\n",
    "print(\"-> %dx%d interaction matrix was loaded successfully.\"%(Dwfs.shape[0],Dwfs.shape[1]))\n",
    "\n",
    "# Include columns related to mount axes (AZ/EL)\n",
    "if include_mount:\n",
    "    dt_ = np.load(Path(calibDataFolder)/'piston_mount_calib_dt_end2end.npz', \n",
    "                 allow_pickle=True)\n",
    "    Dwfs = np.hstack([Dwfs, dt_['calibdt'][()]['Dm']])\n",
    "        "
   ]
  },
  {
   "source": [
    "Plot comparison of singular values with and without Mount axes"
   ],
   "cell_type": "markdown",
   "metadata": {}
  },
  {
   "cell_type": "code",
   "execution_count": 39,
   "metadata": {
    "tags": []
   },
   "outputs": [],
   "source": [
    "if (False) and include_mount:\n",
    "    U,sigma,V = np.linalg.svd(Dwfs[:,:-2], full_matrices=False)        \n",
    "    print('Weakest singular values :\\n',sigma[-15:])\n",
    "    U_,sigma_,V_ = np.linalg.svd(Dwfs, full_matrices=False)\n",
    "    import matplotlib.pyplot as plt\n",
    "    plt.figure(figsize=(16,6))    \n",
    "    plt.semilogy(sigma[:],'s-', label='wo mount')\n",
    "    plt.semilogy(sigma_[:], 'd-.', label='with mount')\n",
    "    plt.grid()\n",
    "    plt.legend()\n",
    "    plt.xlabel('# Mode')\n",
    "    plt.ylabel('Dwfs singular values')\n",
    "    plt.show()"
   ]
  },
  {
   "cell_type": "markdown",
   "metadata": {},
   "source": [
    "Functions to compute controllable mode and control balance regularization matrices"
   ]
  },
  {
   "cell_type": "code",
   "execution_count": 40,
   "metadata": {},
   "outputs": [],
   "source": [
    "def get_aco_recW2(Dwfs,wfsMask,DpwBM,rho_p,rho_s,**kwargs):\n",
    "\n",
    "    if not ((Dwfs.shape[1]+2) % 7):\n",
    "        mount_included = False\n",
    "        n_bm = ((Dwfs.shape[1]+2)//7) - 12\n",
    "    elif not ((Dwfs.shape[1]+2 -2) % 7):\n",
    "        n_bm = ((Dwfs.shape[1])//7) - 12\n",
    "        mount_included = True\n",
    "    else:\n",
    "        print('Unable to get the correct number of the calibrated bending modes. Check Dwfs!')\n",
    "\n",
    "    # - - - Global clocking filtering: we assume that the last 12 modes refer to segment clocking\n",
    "    n_r = 12\n",
    "    _U,sigma,VT = np.linalg.svd(Dwfs,full_matrices=False)\n",
    "    q = sigma[-n_r:]\n",
    "    W2_clk = VT[-n_r:,:].T.dot(np.diag(q)).dot(VT[-n_r:,:])\n",
    "\n",
    "     # - - - Segment piston penalization\n",
    "    if mount_included:\n",
    "        DpwBM = np.hstack([DpwBM, kwargs['Dp_az'], kwargs['Dp_el']])\n",
    "        \n",
    "    W2_piston = DpwBM.T.dot(DpwBM)\n",
    "\n",
    "    if (False):\n",
    "        import matplotlib.pyplot as plt\n",
    "        fig = plt.figure(figsize=(8,4))\n",
    "        plt.imshow(W2_piston[:,:], aspect='auto')\n",
    "        plt.show()\n",
    "\n",
    "    if (False):\n",
    "        import matplotlib.pyplot as plt\n",
    "        fig = plt.figure(figsize=(8,4))\n",
    "        plt.imshow((V_pr @ (Lambda_pr - R_g@Lambda_g@R_g.T) @ V_pr.T), aspect='auto')\n",
    "        plt.show()\n",
    "\n",
    "    W2 = W2_clk + rho_p*W2_piston\n",
    "\n",
    "    # Mean slope regularization\n",
    "    if rho_s > 0.0:\n",
    "        # - - - Mean slope removal matrices (but retains the overall contribution)\n",
    "        O = np.kron(np.eye(6),np.ones((48*48,1)))\n",
    "        V_pr = np.zeros((Dwfs.shape[0],6))\n",
    "        for iv in range(6):\n",
    "            V_pr[:,iv] = np.hstack([*[O[MaskSeg.ravel(),iv] for MaskSeg in wfsMask]])\n",
    "        Lambda_pr = np.diag(1/np.sum(V_pr,axis=0))\n",
    "        \n",
    "        R_g = np.kron(np.eye(2),np.array([[1,1,1]]).T)\n",
    "        Lambda_g = np.diag(1/np.sum(V_pr@R_g,axis=0))    \n",
    "        S = np.matmul(V_pr @ (Lambda_pr - R_g@Lambda_g@R_g.T) @ V_pr.T, Dwfs)\n",
    "        # Update W2 mean slope regularization matrix\n",
    "        W2 += rho_s*S.T.dot(S)\n",
    "\n",
    "    return W2\n"
   ]
  },
  {
   "cell_type": "code",
   "execution_count": 41,
   "metadata": {},
   "outputs": [],
   "source": [
    "def get_aco_recW3(rho_rbm1,rho_rbm2,rho_Fz,**kwargs):\n",
    "    \n",
    "    W_M1TxyzRxyz = [rho_rbm1*i_cm for i_cm in [1]*6]\n",
    "    W_M2TxyzRxyz = [rho_rbm2*i_cm for i_cm in [1]*6]\n",
    "    \n",
    "    W_rbm_oa = block_diag(np.diag(W_M1TxyzRxyz), np.diag(W_M2TxyzRxyz))\n",
    "    W_rbm_cs = block_diag(np.diag(W_M1TxyzRxyz[:-1]), np.diag(W_M2TxyzRxyz[:-1]))\n",
    "    # Rescale RBM weighting matrix\n",
    "    rbm_factor = 1/np.linalg.norm(W_rbm_oa)\n",
    "\n",
    "    # OA segment SA_F weights\n",
    "    W_m1oaF = np.diag([1]*165)\n",
    "    W_m1oaF =  rho_Fz*(1/np.linalg.norm(W_m1oaF))*W_m1oaF\n",
    "    # CS (center segment) SA_F weights\n",
    "    W_m1csF = np.diag([1]*154)\n",
    "    W_m1csF =  rho_Fz*(1/np.linalg.norm(W_m1csF))*W_m1csF\n",
    "\n",
    "    \n",
    "    # Group weighting matrices\n",
    "    W3_M1RBM = rbm_factor*block_diag(np.kron(np.eye(6),np.diag(W_M1TxyzRxyz)),\n",
    "        np.diag(W_M1TxyzRxyz[:-1]))\n",
    "    W3_M2RBM = rbm_factor*block_diag(np.kron(np.eye(6),np.diag(W_M2TxyzRxyz)),\n",
    "        np.diag(W_M2TxyzRxyz[:-1]))\n",
    "    W3_M1BM = block_diag(np.kron(np.eye(6),W_m1oaF),W_m1csF)\n",
    "    # Merge weighting matrices\n",
    "    W3 = block_diag(W3_M1RBM,W3_M2RBM,W3_M1BM)\n",
    "\n",
    "    if 'rho_m' in kwargs.keys():\n",
    "        W3 = block_diag(W3,kwargs['rho_m']*np.eye(2))\n",
    "    \n",
    "    W3 = (1/np.linalg.norm(W3))*W3\n",
    "    \n",
    "    # Print reconstructor regularization weights\n",
    "    if(1):\n",
    "        np.set_printoptions(formatter={'float': '{: 0.6f}'.format})\n",
    "        \n",
    "        aux = np.diag(W3)\n",
    "        if include_mount:\n",
    "            print('Mount weights:\\n',aux[-2:])\n",
    "    \n",
    "        _wM1rbm,_wM2rbm,_wSA_F = np.split(aux,[41,82],axis=0)\n",
    "        print('M1 TxyzRxyz weights:\\n',_wM1rbm[:5],'...(%s entries)'%_wM1rbm.shape)\n",
    "        print('M2 TxyzRxyz weights:\\n',_wM2rbm[:5],'...(%s entries)'%_wM2rbm.shape)\n",
    "        print('Fz weights:\\n',_wSA_F[:5],'...')\n",
    "        np.set_printoptions(formatter=None)\n",
    "\n",
    "    return W3\n"
   ]
  },
  {
   "cell_type": "markdown",
   "metadata": {},
   "source": [
    "#### AcO reconstructor+controller settings"
   ]
  },
  {
   "cell_type": "code",
   "execution_count": 48,
   "metadata": {
    "tags": []
   },
   "outputs": [
    {
     "output_type": "stream",
     "name": "stdout",
     "text": "M1 TxyzRxyz weights:\n [ 0.151511  0.151511  0.151511  0.151511  0.151511] ...(41 entries)\nM2 TxyzRxyz weights:\n [ 0.037878  0.037878  0.037878  0.037878  0.037878] ...(41 entries)\nFz weights:\n [ 0.000016  0.000016  0.000016  0.000016  0.000016] ...\n\nDimension of the vector of actuator limits:1228\n"
    }
   ],
   "source": [
    "# - - - - - - Maximmum actuator command values - - - - -\n",
    "max_m1RBM = [3.0e-3,4.75e-3,4e-3] + [6.5e-4,5.75e-4,5.75e-4]\n",
    "max_m2RBM = [3.0e-4,3.0e-4,3.0e-4] + [3.5e-3,3.5e-3,3.5e-3]\n",
    "max_Fz = 147\n",
    "max_az_el = [1e-2,1e-2]\n",
    "\n",
    "# - - - - - - - - Get weighting matrices - - - - - - - -\n",
    "\n",
    "dt_p = np.load(Path(calibDataFolder)/'piston_mount_calib_dt_end2end.npz', \n",
    "                 allow_pickle=True)\n",
    "Dp = dt_p['calibdt'][()]['Dp']\n",
    "\n",
    "if (Dp.shape[1] == 82):\n",
    "    # Include zero columns corresponfing to bending modes \n",
    "    DpwBM = np.hstack([Dp, np.zeros((Dp.shape[0],7*n_bm))])\n",
    "else:\n",
    "    print('There is an unexpected number of columns in Piston calibration matrix Dp!')\n",
    "\n",
    "# AcO configuration parameters\n",
    "rho_p = 5.0e-6\n",
    "rho_s = 0.0*1.0e-8\n",
    "rho_rbm1 = 4\n",
    "rho_rbm2 = 1\n",
    "rho_Fz = 0.1*(12/165)**2\n",
    "rho_m = 50\n",
    "if include_mount:\n",
    "    Dp_az = dt_p['calibdt'][()]['Dp_az']\n",
    "    Dp_el = dt_p['calibdt'][()]['Dp_el']\n",
    "    W2 = get_aco_recW2(Dwfs,dt['calibdt'][()]['wfsMask'],\n",
    "        DpwBM=DpwBM,rho_p=rho_p,rho_s=rho_s,Dp_az=Dp_az,Dp_el=Dp_el)\n",
    "    W3 = get_aco_recW3(rho_rbm1=rho_rbm1,rho_rbm2=rho_rbm2,rho_Fz=rho_Fz,rho_m=rho_m)\n",
    "else:\n",
    "    W2 = get_aco_recW2(Dwfs,dt['calibdt'][()]['wfsMask'],\n",
    "        DpwBM=DpwBM,rho_p=rho_p,rho_s=rho_s)\n",
    "    W3 = get_aco_recW3(rho_rbm1=rho_rbm1,rho_rbm2=rho_rbm2,rho_Fz=rho_Fz)\n",
    "\n",
    "# Bending modes' data\n",
    "# M1 influence matrix folder\n",
    "Af_folder = '/Users/rromano/Workspace/GMTDataFiles/20200319 Rodrigo k6rot 100000 c'\n",
    "Afz = {}\n",
    "# OA segment weights\n",
    "filename = os.path.join(Af_folder,'m1s1_Af.mat')\n",
    "Afz['outer'] = spio.loadmat(filename)['afprime']\n",
    "_U,s_oa,V_oaT = np.linalg.svd(Afz['outer'],0)\n",
    "bm2Fz_oa = np.dot(V_oaT.T, np.diag(1/s_oa)[:,:n_bm])\n",
    "# CS (center segment) weights\n",
    "filename = os.path.join(Af_folder,'m1s7_Af.mat')\n",
    "Afz['center'] = spio.loadmat(filename)['afprime']\n",
    "_U,s_cs,V_csT = np.linalg.svd(Afz['center'],0)\n",
    "bm2Fz_cs = np.dot(V_csT.T, np.diag(1/s_cs)[:,:n_bm])\n",
    "\n",
    "# Transformation matrix from ctrlb modes to actuator action domain\n",
    "fz_factor = np.mean(max_m1RBM + max_m2RBM)/max_Fz\n",
    "_Tu = block_diag( np.eye(84), np.kron(np.eye(6),fz_factor*bm2Fz_oa), fz_factor*bm2Fz_cs)\n",
    "_TuwoS7Rz = block_diag( np.eye(82), np.kron(np.eye(6),fz_factor*bm2Fz_oa), fz_factor*bm2Fz_cs)\n",
    "# Actuator ranges [M1_RBM;M2_RBM;M1_SA_F]\n",
    "rbm_ranges = max_m1RBM*7 + max_m2RBM*7\n",
    "u_ranges = rbm_ranges + [fz_factor*max_Fz]*bm2Fz_oa.shape[0]*6 + [fz_factor*max_Fz]*bm2Fz_cs.shape[0]\n",
    "print('\\nDimension of the vector of actuator limits:%d'%len(u_ranges))\n",
    "\n",
    "# Control action upper limits vector\n",
    "umax = np.array(u_ranges) # np.array([]) # \n",
    "    \n",
    "if include_mount:\n",
    "    _Tu = block_diag(_Tu,np.eye(2))\n",
    "    _TuwoS7Rz = block_diag(_TuwoS7Rz,np.eye(2))\n",
    "    umax = np.hstack([umax, np.array(max_az_el)]) # np.array([]) #\n",
    "\n",
    "# AcO integral controller gain\n",
    "K = 0.5\n",
    "\n",
    "# Active Optics dictionary data\n",
    "W3 = _TuwoS7Rz.T @ W3 @ _TuwoS7Rz\n",
    "data = {'SHAcO_qp':{'D':Dwfs,'W2':W2,'W3':W3,'K':K,\n",
    "                    'wfsMask':dt['calibdt'][()]['wfsMask'],\n",
    "                    'umin':-umax, 'umax':umax,'rm_mean_slopes':True,\n",
    "                    '_Tu':_Tu, 'end2end_ordering':True}} #'rho_3':rho_3, 'J1_J3_ratio':10\n",
    "\n",
    "filename = 'SHAcO_qp.pickle'\n",
    "# filename = 'simpleSHAcO_qp.pickle'\n",
    "# Pickles MPC data into string representation\n",
    "with open(filename,'wb') as f:\n",
    "    pickle.dump(data,f)\n",
    "    "
   ]
  },
  {
   "cell_type": "markdown",
   "metadata": {},
   "source": [
    "Check conditioning improvement due to regularization"
   ]
  },
  {
   "cell_type": "code",
   "execution_count": 49,
   "metadata": {
    "tags": []
   },
   "outputs": [
    {
     "output_type": "stream",
     "name": "stdout",
     "text": "Condition number improvement:\n\nDue to W2: 2104.6886088919573\nDue to W2 and W3: 4260.035520126116\n"
    }
   ],
   "source": [
    "condDTD = np.linalg.cond(Dwfs.T.dot(Dwfs))\n",
    "print('Condition number improvement:\\n')\n",
    "print('Due to W2:',condDTD/np.linalg.cond(Dwfs.T.dot(Dwfs)+W2))\n",
    "print('Due to W2 and W3:',condDTD/np.linalg.cond(Dwfs.T.dot(Dwfs)+W2+5.0e-7*K*W3*K))"
   ]
  },
  {
   "cell_type": "code",
   "execution_count": null,
   "metadata": {},
   "outputs": [],
   "source": []
  }
 ],
 "metadata": {
  "kernelspec": {
   "display_name": "Python 3",
   "language": "python",
   "name": "python3"
  },
  "language_info": {
   "codemirror_mode": {
    "name": "ipython",
    "version": 3
   },
   "file_extension": ".py",
   "mimetype": "text/x-python",
   "name": "python",
   "nbconvert_exporter": "python",
   "pygments_lexer": "ipython3",
   "version": "3.7.3-final"
  }
 },
 "nbformat": 4,
 "nbformat_minor": 4
}