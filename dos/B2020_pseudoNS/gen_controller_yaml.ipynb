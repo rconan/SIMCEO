{
 "cells": [
  {
   "cell_type": "markdown",
   "metadata": {},
   "source": [
    "# Save yaml controller files for SIMCEO"
   ]
  },
  {
   "cell_type": "markdown",
   "metadata": {},
   "source": [
    "- TT7 Controller\n",
    "- FSM Controller\n",
    "- AZ, EL, and GIR Controller\n",
    "- M2 Positiones (ad hoc) dynamic model"
   ]
  },
  {
   "cell_type": "code",
   "execution_count": 1,
   "metadata": {},
   "outputs": [],
   "source": [
    "import numpy as np\n",
    "import scipy.io as spio\n",
    "from scipy import signal\n",
    "\n",
    "import os\n",
    "from os import path\n",
    "\n",
    "from ruamel import yaml\n",
    "from ruamel.yaml import YAML\n",
    "y = YAML()\n",
    "y.default_flow_style = None\n",
    "\n",
    "import pickle"
   ]
  },
  {
   "cell_type": "markdown",
   "metadata": {},
   "source": [
    "### Load IMS data file with controllers and interface parameters"
   ]
  },
  {
   "cell_type": "code",
   "execution_count": 67,
   "metadata": {},
   "outputs": [],
   "source": [
    "# The files with controller and interface models are available from the GMT-IMS repository\n",
    "filepath = '/Users/rromano/Workspace/GMT-IMS/'\n",
    "# filename = os.path.join(filepath,'controls_5pt1a_OAD.mat')\n",
    "filename = os.path.join(filepath,'controls_5pt1a_dev.mat')"
   ]
  },
  {
   "cell_type": "markdown",
   "metadata": {},
   "source": [
    "### Fast tip-tilt (TT) controller file (with PZT_cmd decoupled outputs)"
   ]
  },
  {
   "cell_type": "code",
   "execution_count": 68,
   "metadata": {},
   "outputs": [
    {
     "name": "stdout",
     "output_type": "stream",
     "text": [
      "Controller dimensions: \n",
      "A: (56, 56) \n",
      "B: (56, 14) \n",
      "C: (14, 56) \n",
      "D: (14, 14)\n"
     ]
    }
   ],
   "source": [
    "# PZT commands decoupling matrix\n",
    "tt2pzt = spio.loadmat(filename)['tt7']['TT2PZT'][0][0]\n",
    "# TT feedback controller (SS) model\n",
    "tt7_fbC = spio.loadmat(filename)['tt7']['FBc_ss'][0][0][0][0]\n",
    "\n",
    "print('Controller dimensions:',\n",
    "      '\\nA:',tt7_fbC['A'].shape,\n",
    "      '\\nB:',tt7_fbC['B'].shape,\n",
    "      '\\nC:',tt7_fbC['C'].shape,\n",
    "      '\\nD:',tt7_fbC['D'].shape)"
   ]
  },
  {
   "cell_type": "code",
   "execution_count": 69,
   "metadata": {},
   "outputs": [
    {
     "name": "stdout",
     "output_type": "stream",
     "text": [
      "TT controller file saved as TTDec_control_dev.yaml \n"
     ]
    }
   ],
   "source": [
    "tt7Dec_ctrl_dt = {'System' :\n",
    "               {'sampling time': 0.5e-3, #second ,\n",
    "                'parameters': {'A': tt7_fbC['A'].tolist(),\n",
    "                               'B': (-tt7_fbC['B']).tolist(),\n",
    "                               'C': (tt2pzt@tt7_fbC['C']).tolist(),\n",
    "                               'D': (-tt2pzt@tt7_fbC['D']).tolist()}\n",
    "               }}\n",
    "\n",
    "if filename[-7:] == 'dev.mat':\n",
    "    tt_yaml_file = 'TTDec_control_dev.yaml'\n",
    "else:\n",
    "    tt_yaml_file = 'TTDec_control_OAD.yaml'\n",
    "\n",
    "if True:\n",
    "    # Save fast TT controller yaml file\n",
    "    with open(tt_yaml_file,'w') as f:\n",
    "        y.dump(tt7Dec_ctrl_dt, f)\n",
    "    print('TT controller file saved as %s ' %tt_yaml_file)    \n",
    "#    # Save fast TT controller pickle file\n",
    "#    with open('TTDec_control.pickle','wb') as f:\n",
    "#        pickle.dump(tt7Dec_ctrl_dt,f)    "
   ]
  },
  {
   "cell_type": "markdown",
   "metadata": {},
   "source": [
    "### M2 FSM feedback controller"
   ]
  },
  {
   "cell_type": "code",
   "execution_count": 70,
   "metadata": {},
   "outputs": [
    {
     "name": "stdout",
     "output_type": "stream",
     "text": [
      "Controller dimensions: \n",
      "A: (168, 168) \n",
      "B: (168, 21) \n",
      "C: (21, 168) \n",
      "D: (21, 21)\n"
     ]
    }
   ],
   "source": [
    "fsm_fbC = spio.loadmat(filename)['mimo_fsmC'][0][0]\n",
    "print('Controller dimensions:',\n",
    "      '\\nA:',fsm_fbC['A'].shape,\n",
    "      '\\nB:',fsm_fbC['B'].shape,\n",
    "      '\\nC:',fsm_fbC['C'].shape,\n",
    "      '\\nD:',fsm_fbC['D'].shape)"
   ]
  },
  {
   "cell_type": "code",
   "execution_count": 71,
   "metadata": {},
   "outputs": [
    {
     "name": "stdout",
     "output_type": "stream",
     "text": [
      "FSM controller file saved as FSM_control_dev.yaml \n"
     ]
    }
   ],
   "source": [
    "# Mapping from [r;y] to e (error signal)\n",
    "Me = np.hstack((np.kron(np.eye(7), np.eye(3)),\n",
    "                np.kron(np.eye(7), np.hstack((np.eye(3),\n",
    "                                              -np.eye(3))))))\n",
    "# Matrix to dristribute the PZT forces (mirror and cell sides)\n",
    "Mu = np.kron(np.eye(7), np.vstack((-np.eye(3), np.eye(3))))\n",
    "\n",
    "fsm_ctrl_dt = {'System' :\n",
    "               {'sampling time': 0.5e-3, #second ,\n",
    "                'parameters': {'A': fsm_fbC['A'].tolist(),\n",
    "                               'B': (fsm_fbC['B'] @ Me).tolist(),\n",
    "                               'C': (Mu @ fsm_fbC['C']).tolist(),\n",
    "                               'D': (Mu @ fsm_fbC['D'] @ Me).tolist()}\n",
    "               }}\n",
    "\n",
    "if filename[-7:] == 'dev.mat':\n",
    "    fsm_yaml_file = 'FSM_control_dev.yaml'\n",
    "else:\n",
    "    fsm_yaml_file = 'FSM_control_OAD.yaml'\n",
    "\n",
    "if True:\n",
    "    # Save fast TT controller yaml file\n",
    "    with open(fsm_yaml_file,'w') as f:\n",
    "        y.dump(fsm_ctrl_dt, f)\n",
    "    print('FSM controller file saved as %s ' %fsm_yaml_file)  "
   ]
  },
  {
   "cell_type": "markdown",
   "metadata": {},
   "source": [
    "### Mount controllers"
   ]
  },
  {
   "cell_type": "code",
   "execution_count": 192,
   "metadata": {},
   "outputs": [
    {
     "name": "stdout",
     "output_type": "stream",
     "text": [
      "Mount Ts:0.005s\n"
     ]
    }
   ],
   "source": [
    "mount_fbC = spio.loadmat(filename)['mount'][0]\n",
    "print(\"Mount Ts:%0.3gs\"%mount_fbC[0][0])\n",
    "\n",
    "# yaml filenames\n",
    "az_yaml_file = 'AZ_fb_ssC.yaml'\n",
    "el_yaml_file = 'EL_fb_ssC.yaml'\n",
    "gir_yaml_file = 'GIR_fb_ssC.yaml'"
   ]
  },
  {
   "cell_type": "markdown",
   "metadata": {},
   "source": [
    "#### Azimuth controller"
   ]
  },
  {
   "cell_type": "code",
   "execution_count": 193,
   "metadata": {},
   "outputs": [
    {
     "name": "stdout",
     "output_type": "stream",
     "text": [
      "AZ radius:9.493s\n",
      "Controller dimensions: \n",
      "A: (7, 7) \n",
      "B: (7, 1) \n",
      "C: (1, 7) \n",
      "D: (1, 1)\n",
      "Azimuth mount controller file saved as AZ_fb_ssC.yaml \n"
     ]
    }
   ],
   "source": [
    "az = mount_fbC[0][1][0][0]\n",
    "az_fbC = az[0][0][0]\n",
    "drv_radius = az[4]\n",
    "print(\"AZ radius:%0.4gs\"%drv_radius)\n",
    "print('Controller dimensions:',\n",
    "      '\\nA:',az_fbC['A'].shape,\n",
    "      '\\nB:',az_fbC['B'].shape,\n",
    "      '\\nC:',az_fbC['C'].shape,\n",
    "      '\\nD:',az_fbC['D'].shape)\n",
    "\n",
    "# Mapping from [r;Az enc] to e (error signal)\n",
    "Me = np.hstack((np.atleast_2d(1),np.hstack((np.ones((1,4)),-np.ones((1,4))))/4/drv_radius))\n",
    "\n",
    "az_fbC_dt = {'System' :\n",
    "               {'sampling time': 0.5e-3, #second ,\n",
    "                'parameters': {'A': az_fbC['A'].tolist(),\n",
    "                               'B': (az_fbC['B'] @ Me).tolist(),\n",
    "                               'C': az_fbC['C'].tolist(),\n",
    "                               'D': (az_fbC['D'] @ Me).tolist()}\n",
    "               }}\n",
    "\n",
    "if True:\n",
    "    # Save fast AZ controller yaml file\n",
    "    with open(az_yaml_file,'w') as f:\n",
    "        y.dump(az_fbC_dt, f)\n",
    "    print('Mount AZ controller file saved as %s ' %az_yaml_file)"
   ]
  },
  {
   "cell_type": "markdown",
   "metadata": {},
   "source": [
    "#### Elevation controller"
   ]
  },
  {
   "cell_type": "code",
   "execution_count": 194,
   "metadata": {},
   "outputs": [
    {
     "name": "stdout",
     "output_type": "stream",
     "text": [
      "EL radius:10.36s\n",
      "Controller dimensions: \n",
      "A: (11, 11) \n",
      "B: (11, 1) \n",
      "C: (1, 11) \n",
      "D: (1, 1)\n",
      "Mount EL controller file saved as EL_fb_ssC.yaml \n"
     ]
    }
   ],
   "source": [
    "el = mount_fbC[0][2][0][0]\n",
    "el_fbC = el[0][0][0]\n",
    "drv_radius = el[4]\n",
    "print(\"EL radius:%0.4gs\"%drv_radius)\n",
    "print('Controller dimensions:',\n",
    "      '\\nA:',el_fbC['A'].shape,\n",
    "      '\\nB:',el_fbC['B'].shape,\n",
    "      '\\nC:',el_fbC['C'].shape,\n",
    "      '\\nD:',el_fbC['D'].shape)\n",
    "\n",
    "# Mapping from [r;Az enc] to e (error signal)\n",
    "Me = np.hstack((np.atleast_2d(1),np.hstack((np.ones((1,4)),-np.ones((1,4))))/4/drv_radius))\n",
    "\n",
    "el_fbC_dt = {'System' :\n",
    "               {'sampling time': 0.5e-3, #second ,\n",
    "                'parameters': {'A': el_fbC['A'].tolist(),\n",
    "                               'B': (el_fbC['B'] @ Me).tolist(),\n",
    "                               'C': el_fbC['C'].tolist(),\n",
    "                               'D': (el_fbC['D'] @ Me).tolist()}\n",
    "               }}\n",
    "\n",
    "if True:\n",
    "    # Save fast EL controller yaml file\n",
    "    with open(el_yaml_file,'w') as f:\n",
    "        y.dump(el_fbC_dt, f)\n",
    "    print('Mount EL controller file saved as %s ' %el_yaml_file)"
   ]
  },
  {
   "cell_type": "markdown",
   "metadata": {},
   "source": [
    "#### GIR controller"
   ]
  },
  {
   "cell_type": "code",
   "execution_count": 195,
   "metadata": {},
   "outputs": [
    {
     "name": "stdout",
     "output_type": "stream",
     "text": [
      "(!) For now, we not convert from ENC GIR to GIR angular displacement\n",
      "Controller dimensions: \n",
      "A: (6, 6) \n",
      "B: (6, 1) \n",
      "C: (1, 6) \n",
      "D: (1, 1)\n",
      "Mount GIR controller file saved as GIR_fb_ssC.yaml \n"
     ]
    }
   ],
   "source": [
    "gir = mount_fbC[0][3][0][0]\n",
    "gir_fbC = gir[0][0][0]\n",
    "print(\"(!) For now, we not convert from ENC GIR to GIR angular displacement\")\n",
    "print('Controller dimensions:',\n",
    "      '\\nA:',gir_fbC['A'].shape,\n",
    "      '\\nB:',gir_fbC['B'].shape,\n",
    "      '\\nC:',gir_fbC['C'].shape,\n",
    "      '\\nD:',gir_fbC['D'].shape)\n",
    "\n",
    "# Mapping from [r;Az enc] to e (error signal)\n",
    "Me = np.hstack((np.atleast_2d(1),np.hstack((np.ones((1,2)),-np.ones((1,2))))/2))\n",
    "\n",
    "gir_fbC_dt = {'System' :\n",
    "               {'sampling time': 0.5e-3, #second ,\n",
    "                'parameters': {'A': gir_fbC['A'].tolist(),\n",
    "                               'B': (gir_fbC['B'] @ Me).tolist(),\n",
    "                               'C': gir_fbC['C'].tolist(),\n",
    "                               'D': (gir_fbC['D'] @ Me).tolist()}\n",
    "               }}\n",
    "\n",
    "if True:\n",
    "    # Save fast GIR controller yaml file\n",
    "    with open(gir_yaml_file,'w') as f:\n",
    "        y.dump(gir_fbC_dt, f)\n",
    "    print('Mount GIR controller file saved as %s ' %gir_yaml_file)"
   ]
  },
  {
   "cell_type": "markdown",
   "metadata": {},
   "source": [
    "### M2 Positioner (ad hoc) dynamic model"
   ]
  },
  {
   "cell_type": "code",
   "execution_count": 6,
   "metadata": {
    "tags": []
   },
   "outputs": [
    {
     "name": "stdout",
     "output_type": "stream",
     "text": [
      "[[6.56527914e-06 2.62034151e-05 6.53646693e-06]]\n",
      "Model file to add M2 RBM from FEM and from the Positioner saved as add_M2_Pos_FEM.yaml \n"
     ]
    }
   ],
   "source": [
    "# 2nd order TF parameters\n",
    "wn = 2*np.pi*2\n",
    "zeta = 0.7\n",
    "# CT TF\n",
    "ctM2PosTF = signal.TransferFunction([wn**2], [1, 2*zeta*wn, wn**2])\n",
    "M2PosTF = signal.cont2discrete((ctM2PosTF.num,ctM2PosTF.den), dt=0.5e-3, method='foh')\n",
    "print(M2PosTF[0])\n",
    "\n",
    "M2Pos_adhoc_DynModel_dt = {'System' :{\n",
    "    'sampling time': 0.5e-3, \n",
    "    'parameters': { 'num': M2PosTF[0][0].tolist(),\n",
    "                    'denom': M2PosTF[1][:].tolist()}\n",
    "               }}\n",
    "m2Pos_yaml_file = 'M2Pos_adhoc_DynModel.yaml'\n",
    "\n",
    "if False:\n",
    "    # Save fast GIR controller yaml file\n",
    "    with open(m2Pos_yaml_file,'w') as f:\n",
    "        y.dump(M2Pos_adhoc_DynModel_dt, f)\n",
    "    print('M2 Pos ad hoc TF file saved as %s ' %m2Pos_yaml_file)\n",
    "\n",
    "add_M2_Pos_FEM_dt = {'System' :\n",
    "               {'sampling time': 0.5e-3, #second ,\n",
    "                'parameters': {'A': np.zeros((1, 1)).tolist(),\n",
    "                               'B': np.zeros((1, 84)).tolist(),\n",
    "                               'C': np.zeros((42, 1)).tolist(),\n",
    "                               'D': np.hstack((np.eye(42),np.eye(42))).tolist()}\n",
    "               }}\n",
    "add_M2_Pos_FEM_file = 'add_M2_Pos_FEM.yaml'\n",
    "\n",
    "if True:\n",
    "    # Save SS model file to add M2 RBM from FEM and from the Positioner\n",
    "    with open(add_M2_Pos_FEM_file,'w') as f:\n",
    "        y.dump(add_M2_Pos_FEM_dt,f)   \n",
    "    print('Model file to add M2 RBM from FEM and from the Positioner saved as %s ' %add_M2_Pos_FEM_file)\n",
    "\n"
   ]
  },
  {
   "cell_type": "markdown",
   "metadata": {},
   "source": [
    "### State-space model to add the AcO BM corrections into the SA forces"
   ]
  },
  {
   "cell_type": "code",
   "execution_count": 2,
   "metadata": {},
   "outputs": [
    {
     "name": "stdout",
     "output_type": "stream",
     "text": [
      "Model file to add the AcO BM corrections into the SA forces saved as add_AcO_F.pickle \n"
     ]
    }
   ],
   "source": [
    "filepath = '/Users/rromano/Workspace/GMTDatafiles/20200319 Rodrigo k6rot 100000 c/'\n",
    "filename = os.path.join(filepath,'m1BM2F.mat')\n",
    "m1BM2F = spio.loadmat(filename)['m1BM2F']\n",
    "\n",
    "n_u1, n_u2 = m1BM2F.shape[0], m1BM2F.shape[1]\n",
    "\n",
    "add_AcO_F_dt = {'System' :\n",
    "               {'sampling time': 0.5e-3, #second ,\n",
    "                'parameters': {'A': np.zeros((1, 1)).tolist(),\n",
    "                               'B': np.zeros((1, n_u1+n_u2)).tolist(),\n",
    "                               'C': np.zeros((n_u1, 1)).tolist(),\n",
    "                               'D': np.hstack((np.eye(n_u1),m1BM2F)).tolist()}\n",
    "               }}\n",
    "add_AcO_F_file = 'add_AcO_F.pickle'\n",
    "\n",
    "if True:\n",
    "    # Save SS model file to add the AcO BM corrections into the SA forces\n",
    "    with open(add_AcO_F_file,'wb') as f:\n",
    "        pickle.dump(add_AcO_F_dt,f)   \n",
    "    print('Model file to add the AcO BM corrections into the SA forces saved as %s ' %add_AcO_F_file)\n"
   ]
  },
  {
   "cell_type": "code",
   "execution_count": null,
   "metadata": {},
   "outputs": [],
   "source": []
  },
  {
   "cell_type": "code",
   "execution_count": null,
   "metadata": {},
   "outputs": [],
   "source": []
  },
  {
   "cell_type": "code",
   "execution_count": 5,
   "metadata": {},
   "outputs": [
    {
     "data": {
      "text/plain": [
       "TransferFunctionContinuous(\n",
       "array([157.91367042]),\n",
       "array([  1.        ,  17.59291886, 157.91367042]),\n",
       "dt: None\n",
       ")"
      ]
     },
     "execution_count": 5,
     "metadata": {},
     "output_type": "execute_result"
    }
   ],
   "source": []
  },
  {
   "cell_type": "code",
   "execution_count": null,
   "metadata": {},
   "outputs": [],
   "source": []
  }
 ],
 "metadata": {
  "kernelspec": {
   "display_name": "Python 3",
   "language": "python",
   "name": "python3"
  },
  "language_info": {
   "codemirror_mode": {
    "name": "ipython",
    "version": 3
   },
   "file_extension": ".py",
   "mimetype": "text/x-python",
   "name": "python",
   "nbconvert_exporter": "python",
   "pygments_lexer": "ipython3",
   "version": "3.7.3"
  }
 },
 "nbformat": 4,
 "nbformat_minor": 4
}
